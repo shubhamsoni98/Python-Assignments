{
 "cells": [
  {
   "cell_type": "markdown",
   "id": "8990015b-7ea8-43bf-87d2-480e3708c22c",
   "metadata": {},
   "source": [
    "TASK - 1"
   ]
  },
  {
   "cell_type": "raw",
   "id": "f05c89dd-db9f-4ba3-ad61-7bf1ad8f5a4c",
   "metadata": {},
   "source": [
    "1. Ramesh's basic salary is input through the keyboard. His dearness allowance is 40% of \n",
    "basic salary, and house rent allowance is 20% of basic salary. Write a program to calculate \n",
    "his gross salary."
   ]
  },
  {
   "cell_type": "code",
   "execution_count": 2,
   "id": "a82c3dc4-b1a3-4a8d-bd3a-d20f622e365c",
   "metadata": {},
   "outputs": [
    {
     "name": "stdin",
     "output_type": "stream",
     "text": [
      "Enter Ramesh's basic salary:  80000\n"
     ]
    },
    {
     "name": "stdout",
     "output_type": "stream",
     "text": [
      "Ramesh's gross salary is: 128000.0\n"
     ]
    }
   ],
   "source": [
    "basic_salary = float(input(\"Enter Ramesh's basic salary: \"))\n",
    "\n",
    "dearness_allowance = 0.40 * basic_salary\n",
    "house_rent_allowance = 0.20 * basic_salary\n",
    "\n",
    "gross_salary = basic_salary + dearness_allowance + house_rent_allowance\n",
    "\n",
    "print(f\"Ramesh's gross salary is: {gross_salary}\")"
   ]
  },
  {
   "cell_type": "raw",
   "id": "4f2f764c-6cbd-4a3c-98db-2901eb57dd9e",
   "metadata": {},
   "source": [
    "2. The distance between two cities (in km.) is input through the keyboard. Write a program \n",
    "to convert and print this distance in meters, feet, inches and centimeters."
   ]
  },
  {
   "cell_type": "code",
   "execution_count": 8,
   "id": "fcad8fc0-857a-4691-bd40-0b0b11541c07",
   "metadata": {},
   "outputs": [
    {
     "name": "stdin",
     "output_type": "stream",
     "text": [
      "Enter the distance between two cities(in km.):  5\n"
     ]
    },
    {
     "name": "stdout",
     "output_type": "stream",
     "text": [
      "Distance in meters - 5000.0\n",
      " in feet - 16404.2\n",
      " in inches - 196850.5\n",
      " in centimeters - 500000.0\n"
     ]
    }
   ],
   "source": [
    "distance = float(input(\"Enter the distance between two cities(in km.): \"))\n",
    "\n",
    "print(f'Distance in meters - {distance*1000}\\n in feet - {distance*3280.84}\\n in inches - {distance*39370.1}\\n in centimeters - {distance*100000}')"
   ]
  },
  {
   "cell_type": "raw",
   "id": "06b664bd-ad23-4ecd-b10f-cb6d220785d5",
   "metadata": {},
   "source": [
    "3. If the marks obtained by a student in five different subjects are input through the \n",
    "keyboard, find out the aggregate marks and percentage marks obtained by the student. \n",
    "Assume that the maximum marks that can be obtained by a student in each subject is 100."
   ]
  },
  {
   "cell_type": "code",
   "execution_count": 12,
   "id": "d4441870-efd9-4dba-938b-b3fc2e08b634",
   "metadata": {},
   "outputs": [
    {
     "name": "stdin",
     "output_type": "stream",
     "text": [
      "Enter marks for physics (out of 100):  43\n",
      "Enter marks for chemistry  (out of 100):  56\n",
      "Enter marks for math (out of 100):  56\n",
      "Enter marks for hindi (out of 100):  54\n",
      "Enter marks for english (out of 100):  34\n"
     ]
    },
    {
     "name": "stdout",
     "output_type": "stream",
     "text": [
      "Aggregate Marks: 243\n",
      "Percentage Marks: 48.60%\n"
     ]
    }
   ],
   "source": [
    "physics = int(input(\"Enter marks for physics (out of 100): \"))\n",
    "chemistry = int(input(\"Enter marks for chemistry  (out of 100): \"))\n",
    "math = int(input(\"Enter marks for math (out of 100): \"))\n",
    "hindi = int(input(\"Enter marks for hindi (out of 100): \"))\n",
    "english = int(input(\"Enter marks for english (out of 100): \"))\n",
    "\n",
    "aggregate_marks = physics + chemistry + math + hindi + english\n",
    "\n",
    "percentage_marks = aggregate_marks * 100 / 500\n",
    "\n",
    "print(\"Aggregate Marks:\", aggregate_marks)\n",
    "print(\"Percentage Marks: {:.2f}%\".format(percentage_marks))"
   ]
  },
  {
   "cell_type": "raw",
   "id": "4638f022-94fa-4612-8447-0b144769b4e0",
   "metadata": {},
   "source": [
    "4. Temperature of a city in Fahrenheit degrees is input through the keyboard. Write a \n",
    "program to convert this temperature into Centigrade degrees."
   ]
  },
  {
   "cell_type": "code",
   "execution_count": 13,
   "id": "4c74f0d8-9d70-4709-b779-aadbb41e2985",
   "metadata": {},
   "outputs": [
    {
     "name": "stdin",
     "output_type": "stream",
     "text": [
      "Temperature of a city in Fahrenheit degrees - 99.6\n"
     ]
    },
    {
     "name": "stdout",
     "output_type": "stream",
     "text": [
      "The temperature in Cetigrade degrees is -  37.55555555555556\n"
     ]
    }
   ],
   "source": [
    "f_temp = float(input(\"Temperature of a city in Fahrenheit degrees -\"))\n",
    "c_temp = ((f_temp-32)*5)/9\n",
    "\n",
    "print(\"The temperature in Cetigrade degrees is - \",c_temp)"
   ]
  },
  {
   "cell_type": "raw",
   "id": "8982f46d-148b-41ec-803d-9429b1320555",
   "metadata": {},
   "source": [
    "5. The length & breadth of a rectangle and radius of a circle are input through the \n",
    "keyboard. Write a program to calculate the area & perimeter of the rectangle, and the area \n",
    "& circumference of the circle."
   ]
  },
  {
   "cell_type": "code",
   "execution_count": 15,
   "id": "c9bb8614-8473-4bb5-b5ce-81ef826da2e0",
   "metadata": {},
   "outputs": [
    {
     "name": "stdin",
     "output_type": "stream",
     "text": [
      "Enter the length of the rectangle:  43\n",
      "Enter the breadth of the rectangle:  23\n",
      "Enter the radius of the circle:  455\n"
     ]
    },
    {
     "name": "stdout",
     "output_type": "stream",
     "text": [
      "Rectangle Area: 989.0\n",
      "Rectangle Perimeter: 132.0\n",
      "Circle Area: 650388.219109427\n",
      "Circle Circumference: 2858.849314766712\n"
     ]
    }
   ],
   "source": [
    "import math\n",
    "\n",
    "length = float(input(\"Enter the length of the rectangle: \"))\n",
    "breadth = float(input(\"Enter the breadth of the rectangle: \"))\n",
    "\n",
    "rectangle_area = length * breadth\n",
    "rectangle_perimeter = 2 * (length + breadth)\n",
    "\n",
    "radius = float(input(\"Enter the radius of the circle: \"))\n",
    "\n",
    "circle_area = math.pi * radius ** 2\n",
    "circle_circumference = 2 * math.pi * radius\n",
    "\n",
    "print(f\"Rectangle Area: {rectangle_area}\")\n",
    "print(f\"Rectangle Perimeter: {rectangle_perimeter}\")\n",
    "print(f\"Circle Area: {circle_area}\")\n",
    "print(f\"Circle Circumference: {circle_circumference}\")\n"
   ]
  },
  {
   "cell_type": "raw",
   "id": "88d1e991-5906-472e-bd9f-74fe80241a0d",
   "metadata": {},
   "source": [
    "6. Two numbers are input through the keyboard into two locations C and D. Write a \n",
    "program to interchange the contents of C and D."
   ]
  },
  {
   "cell_type": "code",
   "execution_count": 20,
   "id": "e10b1858-c255-4e6a-8844-ac9eb5a9c59b",
   "metadata": {},
   "outputs": [
    {
     "name": "stdin",
     "output_type": "stream",
     "text": [
      "Enter the location C : 34\n",
      "Enter the location D : 65\n"
     ]
    },
    {
     "name": "stdout",
     "output_type": "stream",
     "text": [
      "The value of C is : 65 \n",
      "and The value of D is : 34\n"
     ]
    }
   ],
   "source": [
    "c = int(input(\"Enter the location C :\"))\n",
    "d = int(input(\"Enter the location D :\"))\n",
    "\n",
    "e = c\n",
    "c = d\n",
    "d = e\n",
    "print(f\"The value of C is : {c} \\nand The value of D is : {d}\")\n"
   ]
  },
  {
   "cell_type": "raw",
   "id": "b38ecd88-dae4-4dea-afe4-b7a8fdd7c0bc",
   "metadata": {},
   "source": [
    "7. If a five-digit number is input through the keyboard, write a program to calculate the \n",
    "sum of its digits. ( Hint: Use the modulus operator '%')"
   ]
  },
  {
   "cell_type": "code",
   "execution_count": 26,
   "id": "7795dca2-4499-47d5-836c-8a1aa629181a",
   "metadata": {},
   "outputs": [
    {
     "name": "stdin",
     "output_type": "stream",
     "text": [
      "Enter a five-digit number:  23456\n"
     ]
    },
    {
     "name": "stdout",
     "output_type": "stream",
     "text": [
      "Sum of the digits: 20\n"
     ]
    }
   ],
   "source": [
    "number = int(input(\"Enter a five-digit number: \"))\n",
    "\n",
    "sum_of_digits = 0\n",
    "\n",
    "while number > 0:\n",
    "    digit = number % 10\n",
    "    sum_of_digits += digit\n",
    "    number //= 10\n",
    "\n",
    "print(f\"Sum of the digits: {sum_of_digits}\")\n"
   ]
  },
  {
   "cell_type": "raw",
   "id": "da913e3f-3d0a-4b6a-81b6-2865f8dc6d77",
   "metadata": {},
   "source": [
    "8. If a five-digit number is input through the keyboard, write a program to reverse the \n",
    "number."
   ]
  },
  {
   "cell_type": "code",
   "execution_count": 29,
   "id": "b571d96e-f80c-4643-b299-ef356b457529",
   "metadata": {},
   "outputs": [
    {
     "name": "stdin",
     "output_type": "stream",
     "text": [
      "Enter a five-digit number:  34344\n"
     ]
    },
    {
     "name": "stdout",
     "output_type": "stream",
     "text": [
      "The reverse no is: 44343\n"
     ]
    }
   ],
   "source": [
    "number = int(input(\"Enter a five-digit number: \"))\n",
    "\n",
    "reverse_no = 0\n",
    "\n",
    "while number > 0:\n",
    "    digit = number % 10\n",
    "    reverse_no = reverse_no * 10 + digit\n",
    "    number //= 10\n",
    "\n",
    "print(f'The reverse no is: {reverse_no}')"
   ]
  },
  {
   "cell_type": "raw",
   "id": "f2625309-17bd-4505-8c71-3988f74b6187",
   "metadata": {},
   "source": [
    "9. If a four-digit number is input through the keyboard, write a program to obtain the sum \n",
    "of the first and last digit of this number."
   ]
  },
  {
   "cell_type": "code",
   "execution_count": 33,
   "id": "f10a37c1-8f88-4326-b6e3-31107be8df94",
   "metadata": {},
   "outputs": [
    {
     "name": "stdin",
     "output_type": "stream",
     "text": [
      "Enter a four-digit number:  1234\n"
     ]
    },
    {
     "name": "stdout",
     "output_type": "stream",
     "text": [
      "5\n"
     ]
    }
   ],
   "source": [
    "number = int(input(\"Enter a four-digit number: \"))\n",
    "\n",
    "sum = 0\n",
    " \n",
    "first_digit = number % 10\n",
    "second_digit = number // 1000\n",
    "\n",
    "sum = first_digit + second_digit\n",
    "print(sum)\n",
    "    "
   ]
  },
  {
   "cell_type": "raw",
   "id": "e3d8b4e1-05f4-4a25-92e8-fa8a277407b6",
   "metadata": {},
   "source": [
    "10. In a town, the percentage of men is 52. The percentage of total literacy is 48. If total \n",
    "percentage of literate men is 35 of the total population, write a program to find the total \n",
    "number of illiterate men and women if the population of the town is 80,000."
   ]
  },
  {
   "cell_type": "code",
   "execution_count": 1,
   "id": "ee7d5478-1776-4407-880c-78324aac6cb4",
   "metadata": {},
   "outputs": [
    {
     "name": "stdout",
     "output_type": "stream",
     "text": [
      "Total number of illiterate men: 13600.0\n",
      "Total number of illiterate women: 28000.0\n"
     ]
    }
   ],
   "source": [
    "total_population = 80000\n",
    "percentage_men = 52\n",
    "percentage_total_literacy = 48\n",
    "percentage_literate_men = 35\n",
    "\n",
    "number_men = (percentage_men / 100) * total_population\n",
    "number_women = total_population - number_men\n",
    "\n",
    "number_literate_men = (percentage_literate_men / 100) * total_population\n",
    "number_literate_people = (percentage_total_literacy / 100) * total_population\n",
    "\n",
    "number_literate_women = number_literate_people - number_literate_men\n",
    "\n",
    "number_illiterate_men = number_men - number_literate_men\n",
    "number_illiterate_women = number_women - number_literate_women\n",
    "\n",
    "print(f\"Total number of illiterate men: {number_illiterate_men}\")\n",
    "print(f\"Total number of illiterate women: {number_illiterate_women}\")\n"
   ]
  },
  {
   "cell_type": "raw",
   "id": "1df8b521-6bd7-410e-80e5-60eb4294e67d",
   "metadata": {},
   "source": [
    "11. A cashier has currency notes of denominations 10, 50 and 100. If the amount to be \n",
    "withdrawn is input through the keyboard in hundreds, find the total number of currency \n",
    "notes of each denomination the cashier will have to give to the withdrawer"
   ]
  },
  {
   "cell_type": "code",
   "execution_count": 4,
   "id": "26610559-c185-4066-ab28-fd3c19955e82",
   "metadata": {},
   "outputs": [
    {
     "name": "stdin",
     "output_type": "stream",
     "text": [
      "Enter the amount to be withdrawn (in hundreds):  5900\n"
     ]
    },
    {
     "name": "stdout",
     "output_type": "stream",
     "text": [
      "Number of 100 denomination notes: 5900\n",
      "Number of 50 denomination notes: 0\n",
      "Number of 10 denomination notes: 0\n"
     ]
    }
   ],
   "source": [
    "amount = int(input(\"Enter the amount to be withdrawn (in hundreds): \"))\n",
    "\n",
    "amount *= 100\n",
    "\n",
    "notes_100 = amount // 100\n",
    "remaining_amount = amount % 100\n",
    "\n",
    "notes_50 = remaining_amount // 50\n",
    "remaining_amount %= 50\n",
    "\n",
    "notes_10 = remaining_amount // 10\n",
    "\n",
    "print(f\"Number of 100 denomination notes: {notes_100}\")\n",
    "print(f\"Number of 50 denomination notes: {notes_50}\")\n",
    "print(f\"Number of 10 denomination notes: {notes_10}\")\n"
   ]
  },
  {
   "cell_type": "raw",
   "id": "ce691b71-39b7-4f0e-8798-1dfc1574b61b",
   "metadata": {},
   "source": [
    "12. If the total selling price of 15 items and the total profit earned on them is input through \n",
    "the keyboard, write a program to find the cost price of one item."
   ]
  },
  {
   "cell_type": "code",
   "execution_count": 6,
   "id": "c32314de-3d02-4a5b-8da2-1d13ad6b58b2",
   "metadata": {},
   "outputs": [
    {
     "name": "stdin",
     "output_type": "stream",
     "text": [
      "Enter the total selling price of 15 items:  1500\n",
      "Enter the total profit earned on them:  300\n"
     ]
    },
    {
     "name": "stdout",
     "output_type": "stream",
     "text": [
      "The cost price of one item is: 80.00\n"
     ]
    }
   ],
   "source": [
    "total_selling_price = float(input(\"Enter the total selling price of 15 items: \"))\n",
    "total_profit = float(input(\"Enter the total profit earned on them: \"))\n",
    "\n",
    "total_cost_price = total_selling_price - total_profit\n",
    "\n",
    "cost_price_per_item = total_cost_price / 15\n",
    "\n",
    "print(f\"The cost price of one item is: {cost_price_per_item:.2f}\")\n"
   ]
  },
  {
   "cell_type": "raw",
   "id": "4e9d536d-b37e-4d50-8e3e-15a9e4f59b01",
   "metadata": {},
   "source": [
    "13. If a five-digit number is input through the keyboard, write a program to print a new \n",
    "number by adding one to each of its digits. For example, if the number that is input is \n",
    "12391 then the output should be displayed as 23402."
   ]
  },
  {
   "cell_type": "code",
   "execution_count": 8,
   "id": "fd7bbf7a-56cf-4c65-947d-59f75c9504a4",
   "metadata": {},
   "outputs": [
    {
     "name": "stdin",
     "output_type": "stream",
     "text": [
      "Enter a five-digit number:  12391\n"
     ]
    },
    {
     "name": "stdout",
     "output_type": "stream",
     "text": [
      "The new number is: 23402\n"
     ]
    }
   ],
   "source": [
    "number = input(\"Enter a five-digit number: \")\n",
    "\n",
    "new_number = \"\"\n",
    "\n",
    "for digit in number:\n",
    "    new_digit = (int(digit) + 1) % 10\n",
    "    new_number += str(new_digit)\n",
    "\n",
    "print(f\"The new number is: {new_number}\")\n"
   ]
  },
  {
   "cell_type": "markdown",
   "id": "d8206a27-7489-4422-a29d-424e1cfc2562",
   "metadata": {},
   "source": [
    "TASK - 2"
   ]
  },
  {
   "cell_type": "raw",
   "id": "1bb525e8-da60-40a8-8912-367569168c6f",
   "metadata": {},
   "source": [
    "1. While purchasing certain items, a discount of 10% is offered if the quantity purchased is \n",
    "more than 10. If quantity and price per item are input through the keyboard, write a \n",
    "program to calculate the total expenses."
   ]
  },
  {
   "cell_type": "code",
   "execution_count": 10,
   "id": "c8202aed-0a33-4702-ab90-173bfeadc82a",
   "metadata": {},
   "outputs": [
    {
     "name": "stdin",
     "output_type": "stream",
     "text": [
      "Enter the quantity purchased:  12\n",
      "Enter the price per item:  534\n"
     ]
    },
    {
     "name": "stdout",
     "output_type": "stream",
     "text": [
      "The total expenses are: 5767.20\n"
     ]
    }
   ],
   "source": [
    "# Input the quantity and price per item\n",
    "quantity = int(input(\"Enter the quantity purchased: \"))\n",
    "price_per_item = float(input(\"Enter the price per item: \"))\n",
    "\n",
    "# Determine if the quantity is more than 10 to apply the discount\n",
    "if quantity > 10:\n",
    "    total_expense = quantity * price_per_item * 0.9  # Applying 10% discount\n",
    "else:\n",
    "    total_expense = quantity * price_per_item  # No discount\n",
    "\n",
    "# Print the total expenses\n",
    "print(f\"The total expenses are: {total_expense:.2f}\")"
   ]
  },
  {
   "cell_type": "raw",
   "id": "8db22af2-d6f2-4568-8267-405ceeb71a3b",
   "metadata": {},
   "source": [
    "2. The current year and the year in which the employee joined the organization are entered \n",
    "through the keyboard. If the number of years for which the employee has served the \n",
    "organization is greater than 3 then a bonus of Rs. 2500/- is given to the employee. If the \n",
    "years of service are not greater than 3, then the program should do nothing."
   ]
  },
  {
   "cell_type": "code",
   "execution_count": 12,
   "id": "8b0191e0-faab-42ba-81bc-87fd3ec22427",
   "metadata": {},
   "outputs": [
    {
     "name": "stdin",
     "output_type": "stream",
     "text": [
      "Enter the current year:  2024\n",
      "Enter the year of joining:  2020\n"
     ]
    },
    {
     "name": "stdout",
     "output_type": "stream",
     "text": [
      "The employee is eligible for a bonus of Rs. 2500/-\n"
     ]
    }
   ],
   "source": [
    "# Input the current year and the year of joining\n",
    "current_year = int(input(\"Enter the current year: \"))\n",
    "year_of_joining = int(input(\"Enter the year of joining: \"))\n",
    "\n",
    "# Calculate the number of years served\n",
    "years_of_service = current_year - year_of_joining\n",
    "\n",
    "# Determine if a bonus is applicable\n",
    "if years_of_service > 3:\n",
    "    bonus = 2500\n",
    "    print(f\"The employee is eligible for a bonus of Rs. {bonus}/-\")\n",
    "else:\n",
    "    print(\"The employee is not eligible for a bonus.\")"
   ]
  },
  {
   "cell_type": "raw",
   "id": "7e96fb2b-b188-4e46-8e5d-b48726837f76",
   "metadata": {},
   "source": [
    "3. If his basic salary is less than Rs. 1500, then HRA = 10% of basic salary and DA = 90% of \r\n",
    "basic salary. If his salary is either equal to or above Rs. 1500, then HRA = Rs. 500 and DA = \r\n",
    "98% of basic salary. If the employee's salary is input through the keyboard write a program \r\n",
    "to find his gross sal.ary"
   ]
  },
  {
   "cell_type": "code",
   "execution_count": 13,
   "id": "f24e48d3-7f50-4abe-b67b-27fa12aefaee",
   "metadata": {},
   "outputs": [
    {
     "name": "stdin",
     "output_type": "stream",
     "text": [
      "Enter the basic salary:  96000\n"
     ]
    },
    {
     "name": "stdout",
     "output_type": "stream",
     "text": [
      "The gross salary is: Rs. 190580.00\n"
     ]
    }
   ],
   "source": [
    "# Input the basic salary\n",
    "basic_salary = float(input(\"Enter the basic salary: \"))\n",
    "\n",
    "# Determine HRA and DA based on the basic salary\n",
    "if basic_salary < 1500:\n",
    "    HRA = 0.1 * basic_salary\n",
    "    DA = 0.9 * basic_salary\n",
    "else:\n",
    "    HRA = 500\n",
    "    DA = 0.98 * basic_salary\n",
    "\n",
    "# Calculate the gross salary\n",
    "gross_salary = basic_salary + HRA + DA\n",
    "\n",
    "# Print the gross salary\n",
    "print(f\"The gross salary is: Rs. {gross_salary:.2f}\")"
   ]
  },
  {
   "cell_type": "raw",
   "id": "e69703ac-b0eb-49c8-b3a2-a19b6e656881",
   "metadata": {},
   "source": [
    "4. The marks obtained by a student in 5 different subjects are input through the keyboard. \n",
    "The student gets a division as per the following rules: Write a program to calculate the \n",
    "division obtained by the student.\n",
    "a. Percentage above or equal to 60 - First division\n",
    "b. Percentage between 50 and 59 - Second division\n",
    "c. Percentage between 40 and 49 - Third division\n",
    "d. Percentage less than 40 – Fail"
   ]
  },
  {
   "cell_type": "code",
   "execution_count": 16,
   "id": "d9d2c414-3aa7-4042-bbbf-1fa933d6a992",
   "metadata": {},
   "outputs": [
    {
     "name": "stdin",
     "output_type": "stream",
     "text": [
      "Enter the marks for subject 1:  98\n",
      "Enter the marks for subject 2:  99\n",
      "Enter the marks for subject 3:  89\n",
      "Enter the marks for subject 4:  100\n",
      "Enter the marks for subject 5:  96\n"
     ]
    },
    {
     "name": "stdout",
     "output_type": "stream",
     "text": [
      "Percentage: 96.40%\n",
      "Division: First division\n"
     ]
    }
   ],
   "source": [
    "# Input the marks for 5 subjects\n",
    "marks = []\n",
    "for i in range(1, 6):\n",
    "    mark = float(input(f\"Enter the marks for subject {i}: \"))\n",
    "    marks.append(mark)\n",
    "\n",
    "# Calculate the total and percentage of marks\n",
    "total_marks = sum(marks)\n",
    "percentage = (total_marks / 500) * 100\n",
    "\n",
    "# Determine the division based on the percentage\n",
    "if percentage >= 60:\n",
    "    division = \"First division\"\n",
    "elif 50 <= percentage < 60:\n",
    "    division = \"Second division\"\n",
    "elif 40 <= percentage < 50:\n",
    "    division = \"Third division\"\n",
    "else:\n",
    "    division = \"Fail\"\n",
    "\n",
    "# Print the percentage and division\n",
    "print(f\"Percentage: {percentage:.2f}%\")\n",
    "print(f\"Division: {division}\")\n"
   ]
  },
  {
   "cell_type": "raw",
   "id": "3dc22111-5f7d-4993-bb95-7aea7f09a6fc",
   "metadata": {},
   "source": [
    "5. A company insures its drivers in the following cases:\n",
    "a. If the driver is married.\n",
    "b. If the driver is unmarried, male & above 30 years of age.\n",
    "c. If the driver is unmarried, female & above 25 years of age"
   ]
  },
  {
   "cell_type": "code",
   "execution_count": 17,
   "id": "0fc4b825-f961-44f9-b50b-402abf3d9754",
   "metadata": {},
   "outputs": [
    {
     "name": "stdin",
     "output_type": "stream",
     "text": [
      "Enter the marital status (married/unmarried):  married\n",
      "Enter the gender (male/female):  male\n",
      "Enter the age:  34\n"
     ]
    },
    {
     "name": "stdout",
     "output_type": "stream",
     "text": [
      "The driver is insured.\n"
     ]
    }
   ],
   "source": [
    "# Input the marital status, gender, and age of the driver\n",
    "marital_status = input(\"Enter the marital status (married/unmarried): \").strip().lower()\n",
    "gender = input(\"Enter the gender (male/female): \").strip().lower()\n",
    "age = int(input(\"Enter the age: \"))\n",
    "\n",
    "# Determine if the driver is insured based on the conditions\n",
    "if marital_status == \"married\":\n",
    "    insured = True\n",
    "elif marital_status == \"unmarried\":\n",
    "    if gender == \"male\" and age > 30:\n",
    "        insured = True\n",
    "    elif gender == \"female\" and age > 25:\n",
    "        insured = True\n",
    "    else:\n",
    "        insured = False\n",
    "else:\n",
    "    insured = False\n",
    "\n",
    "# Print whether the driver is insured or not\n",
    "if insured:\n",
    "    print(\"The driver is insured.\")\n",
    "else:\n",
    "    print(\"The driver is not insured.\")"
   ]
  },
  {
   "cell_type": "raw",
   "id": "d29e623c-a144-44c3-aaa3-16b530da3c60",
   "metadata": {},
   "source": [
    "6. Write a program to calculate the salary as per the following table:\n",
    "Gender Year of Service Qualifications Salary\n",
    "Male >= 10 Post - Graduate 15000\n",
    ">= 10 Graduate 10000\n",
    "< 10 Post - Graduate 10000\n",
    "< 10 Graduate 7000\n",
    "Female >= 10 Post - Graduate 12000\n",
    ">= 10 Graduate 9000\n",
    "< 10 Post - Graduate 10000\n",
    "< 10 Graduate 6000"
   ]
  },
  {
   "cell_type": "code",
   "execution_count": 19,
   "id": "6620e143-280e-4f7b-97f5-8c3b9af9b4fc",
   "metadata": {},
   "outputs": [
    {
     "name": "stdin",
     "output_type": "stream",
     "text": [
      "Enter the gender (male/female):  male\n",
      "Enter the years of service:  26\n",
      "Enter the qualifications (post-graduate/graduate):  graduate\n"
     ]
    },
    {
     "name": "stdout",
     "output_type": "stream",
     "text": [
      "The calculated salary is: Rs. 10000/-\n"
     ]
    }
   ],
   "source": [
    "# Input the gender, years of service, and qualifications of the employee\n",
    "gender = input(\"Enter the gender (male/female): \").strip().lower()\n",
    "years_of_service = int(input(\"Enter the years of service: \"))\n",
    "qualifications = input(\"Enter the qualifications (post-graduate/graduate): \").strip().lower()\n",
    "\n",
    "# Determine the salary based on the conditions\n",
    "if gender == \"male\":\n",
    "    if years_of_service >= 10:\n",
    "        if qualifications == \"post-graduate\":\n",
    "            salary = 15000\n",
    "        elif qualifications == \"graduate\":\n",
    "            salary = 10000\n",
    "    else:\n",
    "        if qualifications == \"post-graduate\":\n",
    "            salary = 10000\n",
    "        elif qualifications == \"graduate\":\n",
    "            salary = 7000\n",
    "elif gender == \"female\":\n",
    "    if years_of_service >= 10:\n",
    "        if qualifications == \"post-graduate\":\n",
    "            salary = 12000\n",
    "        elif qualifications == \"graduate\":\n",
    "            salary = 9000\n",
    "    else:\n",
    "        if qualifications == \"post-graduate\":\n",
    "            salary = 10000\n",
    "        elif qualifications == \"graduate\":\n",
    "            salary = 6000\n",
    "\n",
    "# Print the calculated salary\n",
    "print(f\"The calculated salary is: Rs. {salary}/-\")"
   ]
  },
  {
   "cell_type": "raw",
   "id": "8ac59932-3188-463a-a6f4-eeb7081045a0",
   "metadata": {},
   "source": [
    "7. If cost price and selling price of an item is input through the keyboard, write a program \n",
    "to determine whether the seller has made profit or incurred loss. Also determine how \n",
    "much profit he made or loss he incurred."
   ]
  },
  {
   "cell_type": "code",
   "execution_count": 20,
   "id": "4ce5247f-aa32-434a-99da-a145b5dbec0a",
   "metadata": {},
   "outputs": [
    {
     "name": "stdin",
     "output_type": "stream",
     "text": [
      "Enter the cost price of the item:  56\n",
      "Enter the selling price of the item:  160\n"
     ]
    },
    {
     "name": "stdout",
     "output_type": "stream",
     "text": [
      "The seller made a profit of Rs. 104.00\n",
      "The percentage of profit is 185.71%\n"
     ]
    }
   ],
   "source": [
    "# Input the cost price and selling price of the item\n",
    "cost_price = float(input(\"Enter the cost price of the item: \"))\n",
    "selling_price = float(input(\"Enter the selling price of the item: \"))\n",
    "\n",
    "# Determine if there is a profit or a loss\n",
    "if selling_price > cost_price:\n",
    "    profit = selling_price - cost_price\n",
    "    print(f\"The seller made a profit of Rs. {profit:.2f}\")\n",
    "elif selling_price < cost_price:\n",
    "    loss = cost_price - selling_price\n",
    "    print(f\"The seller incurred a loss of Rs. {loss:.2f}\")\n",
    "else:\n",
    "    print(\"There is no profit or loss.\")\n",
    "\n",
    "# Optional: If you want to print the percentage of profit or loss\n",
    "if selling_price != cost_price:\n",
    "    percentage = (profit if selling_price > cost_price else loss) / cost_price * 100\n",
    "    print(f\"The percentage of {'profit' if selling_price > cost_price else 'loss'} is {percentage:.2f}%\")"
   ]
  },
  {
   "cell_type": "raw",
   "id": "70cb11fb-5ee5-4f7a-807d-13463bcf36a6",
   "metadata": {},
   "source": [
    "8. Any integer is input through the keyboard. Write a program to find out whether it is an \n",
    "odd number or even number. (Hint: Use the % (modulus) operator)"
   ]
  },
  {
   "cell_type": "code",
   "execution_count": 21,
   "id": "2888cc1a-2d21-4d49-9bce-c283cae71d1f",
   "metadata": {},
   "outputs": [
    {
     "name": "stdin",
     "output_type": "stream",
     "text": [
      "Enter an integer:  76\n"
     ]
    },
    {
     "name": "stdout",
     "output_type": "stream",
     "text": [
      "The number 76 is even.\n"
     ]
    }
   ],
   "source": [
    "# Input the integer\n",
    "number = int(input(\"Enter an integer: \"))\n",
    "\n",
    "# Determine if the number is odd or even\n",
    "if number % 2 == 0:\n",
    "    print(f\"The number {number} is even.\")\n",
    "else:\n",
    "    print(f\"The number {number} is odd.\")\n"
   ]
  },
  {
   "cell_type": "raw",
   "id": "12078a57-f170-43f7-ad6c-52d507be6a32",
   "metadata": {},
   "source": [
    "9. A five-digit number is entered through the keyboard. Write a program to obtain the \n",
    "reversed number and to determine whether the original and reversed numbers are equal \n",
    "or not."
   ]
  },
  {
   "cell_type": "code",
   "execution_count": 22,
   "id": "9f23d6f9-12bc-4519-8790-90f044754430",
   "metadata": {},
   "outputs": [
    {
     "name": "stdin",
     "output_type": "stream",
     "text": [
      "Enter a five-digit number:  1234321\n"
     ]
    },
    {
     "name": "stdout",
     "output_type": "stream",
     "text": [
      "The reversed number is: 1234321\n",
      "The original and reversed numbers are equal.\n"
     ]
    }
   ],
   "source": [
    "# Input the five-digit number\n",
    "number = input(\"Enter a five-digit number: \")\n",
    "\n",
    "# Reverse the number\n",
    "reversed_number = number[::-1]\n",
    "\n",
    "# Determine if the original and reversed numbers are equal\n",
    "if number == reversed_number:\n",
    "    equality = \"equal\"\n",
    "else:\n",
    "    equality = \"not equal\"\n",
    "\n",
    "# Print the reversed number and whether it is equal to the original number\n",
    "print(f\"The reversed number is: {reversed_number}\")\n",
    "print(f\"The original and reversed numbers are {equality}.\")"
   ]
  },
  {
   "cell_type": "raw",
   "id": "8686c26c-9c84-4b14-9abd-ed5d2ad216ca",
   "metadata": {},
   "source": [
    "10. If the ages of Ram, Shyam and Ajay are input through the keyboard, write a program to \n",
    "determine the youngest of the three."
   ]
  },
  {
   "cell_type": "code",
   "execution_count": 23,
   "id": "290a7fc1-ffcf-4e29-bc78-d7dbe004b90a",
   "metadata": {},
   "outputs": [
    {
     "name": "stdin",
     "output_type": "stream",
     "text": [
      "Enter the age of Ram:  99\n",
      "Enter the age of Shyam:  98\n",
      "Enter the age of Ajay:  100\n"
     ]
    },
    {
     "name": "stdout",
     "output_type": "stream",
     "text": [
      "The youngest person is: Shyam\n"
     ]
    }
   ],
   "source": [
    "# Input the ages of Ram, Shyam, and Ajay\n",
    "age_ram = int(input(\"Enter the age of Ram: \"))\n",
    "age_shyam = int(input(\"Enter the age of Shyam: \"))\n",
    "age_ajay = int(input(\"Enter the age of Ajay: \"))\n",
    "\n",
    "# Determine the youngest person\n",
    "if age_ram < age_shyam and age_ram < age_ajay:\n",
    "    youngest = \"Ram\"\n",
    "elif age_shyam < age_ram and age_shyam < age_ajay:\n",
    "    youngest = \"Shyam\"\n",
    "else:\n",
    "    youngest = \"Ajay\"\n",
    "\n",
    "# Print the name of the youngest person\n",
    "print(f\"The youngest person is: {youngest}\")"
   ]
  },
  {
   "cell_type": "raw",
   "id": "65d51677-7736-4c64-b557-0eced822fb1c",
   "metadata": {},
   "source": [
    "11. Write a program to check whether a triangle is valid or not, when the three angles of \n",
    "the triangle are entered through the keyboard. A triangle is valid if the sum of all the three \n",
    "angles is equal to 180 degrees."
   ]
  },
  {
   "cell_type": "code",
   "execution_count": 24,
   "id": "e4905bda-cb43-4826-b56e-047d61bcbfcb",
   "metadata": {},
   "outputs": [
    {
     "name": "stdin",
     "output_type": "stream",
     "text": [
      "Enter the first angle of the triangle:  30\n",
      "Enter the second angle of the triangle:  35\n",
      "Enter the third angle of the triangle:  50\n"
     ]
    },
    {
     "name": "stdout",
     "output_type": "stream",
     "text": [
      "The triangle is not valid.\n"
     ]
    }
   ],
   "source": [
    "# Input the three angles of the triangle\n",
    "angle1 = float(input(\"Enter the first angle of the triangle: \"))\n",
    "angle2 = float(input(\"Enter the second angle of the triangle: \"))\n",
    "angle3 = float(input(\"Enter the third angle of the triangle: \"))\n",
    "\n",
    "# Check if the sum of the three angles is equal to 180 degrees\n",
    "if angle1 + angle2 + angle3 == 180:\n",
    "    print(\"The triangle is valid.\")\n",
    "else:\n",
    "    print(\"The triangle is not valid.\")"
   ]
  },
  {
   "cell_type": "raw",
   "id": "b2047e11-6437-4bf7-aa2d-cba73058d06a",
   "metadata": {},
   "source": [
    "12. Find the absolute value of a number entered through the keyboard."
   ]
  },
  {
   "cell_type": "code",
   "execution_count": 27,
   "id": "7e3f3724-5d43-4000-9301-02e9f741758e",
   "metadata": {},
   "outputs": [
    {
     "name": "stdin",
     "output_type": "stream",
     "text": [
      "Enter a number:  34.8\n"
     ]
    },
    {
     "name": "stdout",
     "output_type": "stream",
     "text": [
      "The absolute value of 34.8 is 34.8.\n"
     ]
    }
   ],
   "source": [
    "# Input the number\n",
    "number = float(input(\"Enter a number: \"))\n",
    "\n",
    "# Find the absolute value\n",
    "absolute_value = abs(number)\n",
    "\n",
    "# Print the absolute value\n",
    "print(f\"The absolute value of {number} is {absolute_value}.\")"
   ]
  },
  {
   "cell_type": "raw",
   "id": "a4993a6b-abd0-435a-8362-afbb1d2d5721",
   "metadata": {},
   "source": [
    "13. Given the length and breadth of a rectangle, write a program to find whether the area \n",
    "of the rectangle is greater than its perimeter. For example, the area of the rectangle with \n",
    "length = 5 and breadth = 4 is greater than its perimeter"
   ]
  },
  {
   "cell_type": "code",
   "execution_count": 28,
   "id": "d0437434-c504-4c54-b05f-2b8d9151f33c",
   "metadata": {},
   "outputs": [
    {
     "name": "stdin",
     "output_type": "stream",
     "text": [
      "Enter the length of the rectangle:  5\n",
      "Enter the breadth of the rectangle:  4\n"
     ]
    },
    {
     "name": "stdout",
     "output_type": "stream",
     "text": [
      "The area of the rectangle is greater than its perimeter.\n"
     ]
    }
   ],
   "source": [
    "# Input the length and breadth of the rectangle\n",
    "length = float(input(\"Enter the length of the rectangle: \"))\n",
    "breadth = float(input(\"Enter the breadth of the rectangle: \"))\n",
    "\n",
    "# Calculate the area of the rectangle\n",
    "area = length * breadth\n",
    "\n",
    "# Calculate the perimeter of the rectangle\n",
    "perimeter = 2 * (length + breadth)\n",
    "\n",
    "# Compare the area and the perimeter\n",
    "if area > perimeter:\n",
    "    print(\"The area of the rectangle is greater than its perimeter.\")\n",
    "else:\n",
    "    print(\"The area of the rectangle is not greater than its perimeter.\")"
   ]
  },
  {
   "cell_type": "raw",
   "id": "5dd0a7fe-d732-4056-a6bd-1933e4cd9d72",
   "metadata": {},
   "source": [
    "14. Any year is entered through the keyboard, write a program to determine whether the \n",
    "year is leap or not. Use the logical operators && and ||."
   ]
  },
  {
   "cell_type": "code",
   "execution_count": 29,
   "id": "386a3beb-663e-47d3-be67-edf999884687",
   "metadata": {},
   "outputs": [
    {
     "name": "stdin",
     "output_type": "stream",
     "text": [
      "Enter a year:  2020\n"
     ]
    },
    {
     "name": "stdout",
     "output_type": "stream",
     "text": [
      "The year 2020 is a leap year.\n"
     ]
    }
   ],
   "source": [
    "# Input the year\n",
    "year = int(input(\"Enter a year: \"))\n",
    "\n",
    "# Determine if the year is a leap year\n",
    "if (year % 4 == 0 and year % 100 != 0) or (year % 400 == 0):\n",
    "    print(f\"The year {year} is a leap year.\")\n",
    "else:\n",
    "    print(f\"The year {year} is not a leap year.\")"
   ]
  },
  {
   "cell_type": "raw",
   "id": "95defcf1-8a86-4c3d-be2a-efc220b1a5b5",
   "metadata": {},
   "source": [
    "15. A certain grade of steel is graded according to the following conditions:\n",
    "i. Hardness must be greater than 50\n",
    "ii. Carbon content must be less than 0.7\n",
    "iii. Tensile strength must be greater than 5600\n",
    "The grades are as follows:\n",
    "i. Grade is 10 if all three conditions are met\n",
    "ii. Grade is 9 if conditions (i) and (ii) are met\n",
    "iii. Grade is 8 if conditions (ii) and (iii) are met\n",
    "iv. Grade is 7 if conditions (i) and (iii) are met\n",
    "v. Grade is 6 if only one condition is met\n",
    "vi. Grade is 5 if none of the conditions are met\n",
    "Write a program, which will require the user to give values of hardness, carbon content and \n",
    "tensile strength of the steel under consideration and output the grade of the steel."
   ]
  },
  {
   "cell_type": "code",
   "execution_count": 30,
   "id": "beeab357-3545-4511-8c61-7107837a6717",
   "metadata": {},
   "outputs": [
    {
     "name": "stdin",
     "output_type": "stream",
     "text": [
      "Enter the hardness of the steel:  78\n",
      "Enter the carbon content of the steel:  34\n",
      "Enter the tensile strength of the steel:  56\n"
     ]
    },
    {
     "name": "stdout",
     "output_type": "stream",
     "text": [
      "The grade of the steel is: 6\n"
     ]
    }
   ],
   "source": [
    "# Input the values of hardness, carbon content, and tensile strength\n",
    "hardness = float(input(\"Enter the hardness of the steel: \"))\n",
    "carbon_content = float(input(\"Enter the carbon content of the steel: \"))\n",
    "tensile_strength = float(input(\"Enter the tensile strength of the steel: \"))\n",
    "\n",
    "# Initialize the grade\n",
    "grade = 5\n",
    "\n",
    "# Determine the grade based on the conditions\n",
    "if hardness > 50 and carbon_content < 0.7 and tensile_strength > 5600:\n",
    "    grade = 10\n",
    "elif hardness > 50 and carbon_content < 0.7:\n",
    "    grade = 9\n",
    "elif carbon_content < 0.7 and tensile_strength > 5600:\n",
    "    grade = 8\n",
    "elif hardness > 50 and tensile_strength > 5600:\n",
    "    grade = 7\n",
    "elif hardness > 50 or carbon_content < 0.7 or tensile_strength > 5600:\n",
    "    grade = 6\n",
    "\n",
    "# Print the grade of the steel\n",
    "print(f\"The grade of the steel is: {grade}\")"
   ]
  },
  {
   "cell_type": "raw",
   "id": "6cc7f324-84e1-4fa9-ab8e-e37bcfa5f39b",
   "metadata": {},
   "source": [
    "16. A library charges a fine for every book returned late. For first 5 days the fine is 50 \n",
    "paise, for 6-10 days fine is one rupee and above 10 days fine is 5 rupees. If you return the \n",
    "book after 30 days your membership will be cancelled. Write a program to accept the \n",
    "number of days the member is late to return the book and display the fine or the \n",
    "appropriate message."
   ]
  },
  {
   "cell_type": "code",
   "execution_count": 32,
   "id": "c945954d-e2f1-4d30-a866-21a20bb3b4d5",
   "metadata": {},
   "outputs": [
    {
     "name": "stdin",
     "output_type": "stream",
     "text": [
      "Enter the number of days the book is returned late:  21\n"
     ]
    },
    {
     "name": "stdout",
     "output_type": "stream",
     "text": [
      "The fine is Rs. 62.50\n"
     ]
    }
   ],
   "source": [
    "# Input the number of days the book is returned late\n",
    "days_late = int(input(\"Enter the number of days the book is returned late: \"))\n",
    "\n",
    "# Determine the fine or appropriate message\n",
    "if days_late <= 5:\n",
    "    fine = days_late * 0.50\n",
    "    print(f\"The fine is Rs. {fine:.2f}\")\n",
    "elif 6 <= days_late <= 10:\n",
    "    fine = (5 * 0.50) + (days_late - 5) * 1\n",
    "    print(f\"The fine is Rs. {fine:.2f}\")\n",
    "elif 11 <= days_late <= 30:\n",
    "    fine = (5 * 0.50) + (5 * 1) + (days_late - 10) * 5\n",
    "    print(f\"The fine is Rs. {fine:.2f}\")\n",
    "else:\n",
    "    print(\"Your membership will be cancelled.\")"
   ]
  },
  {
   "cell_type": "raw",
   "id": "91b7b82b-ff4b-482d-bbd4-5bf09831a1a8",
   "metadata": {},
   "source": [
    "17. In a company, worker efficiency is determined on the basis of the time required for a \n",
    "worker to complete a particular job. If the time taken by the worker is between 2 – 3 \n",
    "hours, then the worker is said to be highly efficient. If the time required by the worker is \n",
    "between 3 – 4 hours, then the worker is ordered to improve speed. If the time taken is \n",
    "between 4 – 5 hours, the worker is given training to improve his speed, and if the time \n",
    "taken by the worker is more than 5 hours, then the worker has to leave the company. If the \n",
    "time taken by the worker is input through the keyboard, find the efficiency of the worker."
   ]
  },
  {
   "cell_type": "code",
   "execution_count": 34,
   "id": "acfee7b6-d75e-4c6d-abaf-df4cb820c774",
   "metadata": {},
   "outputs": [
    {
     "name": "stdin",
     "output_type": "stream",
     "text": [
      "Enter the time taken by the worker (in hours):  2\n"
     ]
    },
    {
     "name": "stdout",
     "output_type": "stream",
     "text": [
      "The worker is highly efficient.\n"
     ]
    }
   ],
   "source": [
    "# Input the time taken by the worker\n",
    "time_taken = float(input(\"Enter the time taken by the worker (in hours): \"))\n",
    "\n",
    "# Determine the efficiency of the worker\n",
    "if 2 <= time_taken <= 3:\n",
    "    print(\"The worker is highly efficient.\")\n",
    "elif 3 < time_taken <= 4:\n",
    "    print(\"The worker is ordered to improve speed.\")\n",
    "elif 4 < time_taken <= 5:\n",
    "    print(\"The worker is given training to improve speed.\")\n",
    "elif time_taken > 5:\n",
    "    print(\"The worker has to leave the company.\")\n",
    "else:\n",
    "    print(\"Invalid input. Time taken should be 2 hours or more.\")"
   ]
  },
  {
   "cell_type": "markdown",
   "id": "89d6c966-6e7a-4611-b429-6e5e9c395156",
   "metadata": {},
   "source": [
    "TASK-3"
   ]
  },
  {
   "cell_type": "raw",
   "id": "154b634c-fee2-4dad-99bb-44affdd2209c",
   "metadata": {},
   "source": [
    "1. Write a program to find the factor of the given number."
   ]
  },
  {
   "cell_type": "code",
   "execution_count": 35,
   "id": "88942604-18f4-461e-8edc-4439c2dc160e",
   "metadata": {},
   "outputs": [
    {
     "name": "stdin",
     "output_type": "stream",
     "text": [
      "Enter a number:  56\n"
     ]
    },
    {
     "name": "stdout",
     "output_type": "stream",
     "text": [
      "The factors of 56 are:\n",
      "1\n",
      "2\n",
      "4\n",
      "7\n",
      "8\n",
      "14\n",
      "28\n",
      "56\n"
     ]
    }
   ],
   "source": [
    "# Input the number\n",
    "number = int(input(\"Enter a number: \"))\n",
    "\n",
    "# Find and print the factors of the number\n",
    "print(f\"The factors of {number} are:\")\n",
    "for i in range(1, number + 1):\n",
    "    if number % i == 0:\n",
    "        print(i)"
   ]
  },
  {
   "cell_type": "raw",
   "id": "c2389a9d-58c4-4a89-acd8-86a9fbce1356",
   "metadata": {},
   "source": [
    "2. Write a program to find whether the given number is prime or not."
   ]
  },
  {
   "cell_type": "code",
   "execution_count": 36,
   "id": "92d8ff1f-a0cf-4165-a07f-1ddcc5d371e4",
   "metadata": {},
   "outputs": [
    {
     "name": "stdin",
     "output_type": "stream",
     "text": [
      "Enter a number:  3543\n"
     ]
    },
    {
     "name": "stdout",
     "output_type": "stream",
     "text": [
      "The number 3543 is not prime.\n"
     ]
    }
   ],
   "source": [
    "import math\n",
    "\n",
    "# Input the number\n",
    "number = int(input(\"Enter a number: \"))\n",
    "\n",
    "# Determine if the number is prime\n",
    "if number < 2:\n",
    "    is_prime = False\n",
    "else:\n",
    "    is_prime = True\n",
    "    for i in range(2, int(math.sqrt(number)) + 1):\n",
    "        if number % i == 0:\n",
    "            is_prime = False\n",
    "            break\n",
    "\n",
    "# Print the result\n",
    "if is_prime:\n",
    "    print(f\"The number {number} is prime.\")\n",
    "else:\n",
    "    print(f\"The number {number} is not prime.\")"
   ]
  },
  {
   "cell_type": "raw",
   "id": "a0f446ec-c5ed-404b-beb0-6d9f1794683e",
   "metadata": {},
   "source": [
    "3. Write a program to find the given number is Armstrong number or not."
   ]
  },
  {
   "cell_type": "code",
   "execution_count": 38,
   "id": "76ea3710-0e9c-4750-9e2d-d27ab325f853",
   "metadata": {},
   "outputs": [
    {
     "name": "stdin",
     "output_type": "stream",
     "text": [
      "Enter a number:  153\n"
     ]
    },
    {
     "name": "stdout",
     "output_type": "stream",
     "text": [
      "The number 153 is an Armstrong number.\n"
     ]
    }
   ],
   "source": [
    "# Input the number\n",
    "number = int(input(\"Enter a number: \"))\n",
    "\n",
    "# Convert the number to a string to easily iterate over digits\n",
    "num_str = str(number)\n",
    "\n",
    "# Calculate the number of digits\n",
    "num_digits = len(num_str)\n",
    "\n",
    "# Calculate the sum of each digit raised to the power of the number of digits\n",
    "sum_of_powers = sum(int(digit) ** num_digits for digit in num_str)\n",
    "\n",
    "# Check if the sum of powers is equal to the original number\n",
    "if sum_of_powers == number:\n",
    "    print(f\"The number {number} is an Armstrong number.\")\n",
    "else:\n",
    "    print(f\"The number {number} is not an Armstrong number.\")"
   ]
  },
  {
   "cell_type": "raw",
   "id": "9152d570-0bb0-40ea-8f19-679a3742654f",
   "metadata": {},
   "source": [
    "4. Write a program to print the Armstrong numbers between 100 to 999."
   ]
  },
  {
   "cell_type": "code",
   "execution_count": 39,
   "id": "5cc5410e-1e98-4c4a-989c-eed3acabea10",
   "metadata": {},
   "outputs": [
    {
     "name": "stdout",
     "output_type": "stream",
     "text": [
      "Armstrong numbers between 100 and 999 are:\n",
      "153\n",
      "370\n",
      "371\n",
      "407\n"
     ]
    }
   ],
   "source": [
    "# Function to check if a number is an Armstrong number\n",
    "def is_armstrong(number):\n",
    "    num_str = str(number)\n",
    "    num_digits = len(num_str)\n",
    "    sum_of_powers = sum(int(digit) ** num_digits for digit in num_str)\n",
    "    return sum_of_powers == number\n",
    "\n",
    "# Iterate through all numbers from 100 to 999 and print Armstrong numbers\n",
    "print(\"Armstrong numbers between 100 and 999 are:\")\n",
    "for num in range(100, 999 + 1):\n",
    "    if is_armstrong(num):\n",
    "        print(num)"
   ]
  },
  {
   "cell_type": "raw",
   "id": "090f26ca-36ed-4929-a5af-ea79a653860e",
   "metadata": {},
   "source": [
    "5. Write a program to count and print the number of odd and even numbers."
   ]
  },
  {
   "cell_type": "code",
   "execution_count": 42,
   "id": "ab03b26a-500c-44da-bd33-fbb8a7abc13c",
   "metadata": {},
   "outputs": [
    {
     "name": "stdin",
     "output_type": "stream",
     "text": [
      "Enter the start of the range:  34\n",
      "Enter the end of the range:  234\n"
     ]
    },
    {
     "name": "stdout",
     "output_type": "stream",
     "text": [
      "The number of even numbers in the range is: 101\n",
      "The number of odd numbers in the range is: 100\n"
     ]
    }
   ],
   "source": [
    "# Input the range of numbers\n",
    "start = int(input(\"Enter the start of the range: \"))\n",
    "end = int(input(\"Enter the end of the range: \"))\n",
    "\n",
    "# Initialize counters for odd and even numbers\n",
    "odd_count = 0\n",
    "even_count = 0\n",
    "\n",
    "# Iterate through the range and count odd and even numbers\n",
    "for num in range(start, end + 1):\n",
    "    if num % 2 == 0:\n",
    "        even_count += 1\n",
    "    else:\n",
    "        odd_count += 1\n",
    "\n",
    "# Print the counts of odd and even numbers\n",
    "print(f\"The number of even numbers in the range is: {even_count}\")\n",
    "print(f\"The number of odd numbers in the range is: {odd_count}\")"
   ]
  },
  {
   "cell_type": "raw",
   "id": "441acd1a-77a9-4c0d-8de5-38084f622bb9",
   "metadata": {},
   "source": [
    "6. Write a program to find the reverse of n digit number using While loop"
   ]
  },
  {
   "cell_type": "code",
   "execution_count": 43,
   "id": "ef7c9e80-9922-415d-acbf-6ab37ce11690",
   "metadata": {},
   "outputs": [
    {
     "name": "stdin",
     "output_type": "stream",
     "text": [
      "Enter a number:  5464365\n"
     ]
    },
    {
     "name": "stdout",
     "output_type": "stream",
     "text": [
      "The reversed number is: 5634645\n"
     ]
    }
   ],
   "source": [
    "# Input the number\n",
    "number = int(input(\"Enter a number: \"))\n",
    "\n",
    "# Initialize the variable to store the reversed number\n",
    "reversed_number = 0\n",
    "\n",
    "# Use a while loop to reverse the number\n",
    "while number > 0:\n",
    "    last_digit = number % 10\n",
    "    reversed_number = reversed_number * 10 + last_digit\n",
    "    number = number // 10\n",
    "\n",
    "# Print the reversed number\n",
    "print(f\"The reversed number is: {reversed_number}\")"
   ]
  },
  {
   "cell_type": "raw",
   "id": "36d093d6-6ff1-462d-ad2d-c8e32cb3d9da",
   "metadata": {},
   "source": [
    "7. Write a program to find the binary number from given decimal number."
   ]
  },
  {
   "cell_type": "code",
   "execution_count": 45,
   "id": "72b54469-6664-42ea-ab62-41ba0974949c",
   "metadata": {},
   "outputs": [
    {
     "name": "stdin",
     "output_type": "stream",
     "text": [
      "Enter a decimal number:  3443\n"
     ]
    },
    {
     "name": "stdout",
     "output_type": "stream",
     "text": [
      "The binary representation is: 110101110011\n"
     ]
    }
   ],
   "source": [
    "# Input the decimal number\n",
    "decimal_number = int(input(\"Enter a decimal number: \"))\n",
    "\n",
    "# Initialize an empty string to store the binary representation\n",
    "binary_number = \"\"\n",
    "\n",
    "# Handle the special case when the input is 0\n",
    "if decimal_number == 0:\n",
    "    binary_number = \"0\"\n",
    "else:\n",
    "    # Use a while loop to convert the decimal number to binary\n",
    "    while decimal_number > 0:\n",
    "        remainder = decimal_number % 2\n",
    "        binary_number = str(remainder) + binary_number\n",
    "        decimal_number = decimal_number // 2\n",
    "\n",
    "# Print the binary representation\n",
    "print(f\"The binary representation is: {binary_number}\")"
   ]
  },
  {
   "cell_type": "raw",
   "id": "3ab00b3c-2caf-4559-9b76-bb7ca3051aab",
   "metadata": {},
   "source": [
    "8. Write a program to find the decimal number from given Binary number."
   ]
  },
  {
   "cell_type": "code",
   "execution_count": 46,
   "id": "9182f01b-a459-40a8-be1a-8dc497d45cda",
   "metadata": {},
   "outputs": [
    {
     "name": "stdin",
     "output_type": "stream",
     "text": [
      "Enter a binary number:  111010110110\n"
     ]
    },
    {
     "name": "stdout",
     "output_type": "stream",
     "text": [
      "The decimal representation is: 3766\n"
     ]
    }
   ],
   "source": [
    "# Input the binary number as a string\n",
    "binary_number = input(\"Enter a binary number: \")\n",
    "\n",
    "# Initialize the variable to store the decimal value\n",
    "decimal_number = 0\n",
    "\n",
    "# Iterate through each digit of the binary number\n",
    "for i in range(len(binary_number)):\n",
    "    # Get the current digit (from left to right)\n",
    "    digit = int(binary_number[len(binary_number) - 1 - i])\n",
    "    \n",
    "    # Multiply the digit by 2 raised to the power of its position and add to the decimal value\n",
    "    decimal_number += digit * (2 ** i)\n",
    "\n",
    "# Print the decimal representation\n",
    "print(f\"The decimal representation is: {decimal_number}\")\n"
   ]
  },
  {
   "cell_type": "raw",
   "id": "fc678eb6-1f01-4c2e-8c63-3c20ae838ebf",
   "metadata": {},
   "source": [
    "9. Write a program to find the factorial of the given number."
   ]
  },
  {
   "cell_type": "code",
   "execution_count": 48,
   "id": "168665a3-23c5-4bd6-96a5-b92f0e443b97",
   "metadata": {},
   "outputs": [
    {
     "name": "stdin",
     "output_type": "stream",
     "text": [
      "Enter a number:  12\n"
     ]
    },
    {
     "name": "stdout",
     "output_type": "stream",
     "text": [
      "The factorial of 12 is: 479001600\n"
     ]
    }
   ],
   "source": [
    "# Input the number\n",
    "number = int(input(\"Enter a number: \"))\n",
    "\n",
    "# Initialize the variable to store the factorial\n",
    "factorial = 1\n",
    "\n",
    "# Use a loop to calculate the factorial\n",
    "for i in range(1, number + 1):\n",
    "    factorial *= i\n",
    "\n",
    "# Print the factorial\n",
    "print(f\"The factorial of {number} is: {factorial}\")\n"
   ]
  },
  {
   "cell_type": "raw",
   "id": "79529c45-9f68-4a42-b29e-75955531c4b0",
   "metadata": {},
   "source": [
    "10. Write a program to find the Fibonacci Series of the given number."
   ]
  },
  {
   "cell_type": "code",
   "execution_count": 49,
   "id": "c1867e77-766c-444f-842d-5b711cd986b7",
   "metadata": {},
   "outputs": [
    {
     "name": "stdin",
     "output_type": "stream",
     "text": [
      "Enter the number of terms:  45\n"
     ]
    },
    {
     "name": "stdout",
     "output_type": "stream",
     "text": [
      "Fibonacci series up to 45 terms:\n",
      "0 1 1 2 3 5 8 13 21 34 55 89 144 233 377 610 987 1597 2584 4181 6765 10946 17711 28657 46368 75025 121393 196418 317811 514229 832040 1346269 2178309 3524578 5702887 9227465 14930352 24157817 39088169 63245986 102334155 165580141 267914296 433494437 701408733 \n"
     ]
    }
   ],
   "source": [
    "# Input the number of terms\n",
    "num_terms = int(input(\"Enter the number of terms: \"))\n",
    "\n",
    "# Initialize the first two terms\n",
    "first_term = 0\n",
    "second_term = 1\n",
    "\n",
    "# Check if the number of terms is valid\n",
    "if num_terms <= 0:\n",
    "    print(\"Please enter a positive integer.\")\n",
    "elif num_terms == 1:\n",
    "    print(f\"Fibonacci series up to {num_terms} term: {first_term}\")\n",
    "else:\n",
    "    print(f\"Fibonacci series up to {num_terms} terms:\")\n",
    "    print(first_term, second_term, end=\" \")\n",
    "    for _ in range(2, num_terms):\n",
    "        next_term = first_term + second_term\n",
    "        print(next_term, end=\" \")\n",
    "        # Update the terms\n",
    "        first_term = second_term\n",
    "        second_term = next_term\n",
    "    print()  # For a newline after the series\n"
   ]
  },
  {
   "cell_type": "raw",
   "id": "1819f5d5-84d3-404b-a78b-48d5258d7f4f",
   "metadata": {},
   "source": [
    "11. Write a program to find the given number is perfect number"
   ]
  },
  {
   "cell_type": "code",
   "execution_count": 50,
   "id": "502c179e-6248-410b-8253-f39804b14de6",
   "metadata": {},
   "outputs": [
    {
     "name": "stdin",
     "output_type": "stream",
     "text": [
      "Enter a number:  345\n"
     ]
    },
    {
     "name": "stdout",
     "output_type": "stream",
     "text": [
      "The number 345 is not a perfect number.\n"
     ]
    }
   ],
   "source": [
    "# Input the number\n",
    "number = int(input(\"Enter a number: \"))\n",
    "\n",
    "# Initialize the variable to store the sum of proper divisors\n",
    "sum_of_divisors = 0\n",
    "\n",
    "# Find and sum the proper divisors\n",
    "for i in range(1, number):\n",
    "    if number % i == 0:\n",
    "        sum_of_divisors += i\n",
    "\n",
    "# Check if the sum of proper divisors is equal to the number\n",
    "if sum_of_divisors == number:\n",
    "    print(f\"The number {number} is a perfect number.\")\n",
    "else:\n",
    "    print(f\"The number {number} is not a perfect number.\")\n"
   ]
  },
  {
   "cell_type": "raw",
   "id": "27a4d070-3ebb-44b2-8aa3-2b71d1e6b367",
   "metadata": {},
   "source": [
    "12. Write a program to print the perfect number between 1-1000"
   ]
  },
  {
   "cell_type": "code",
   "execution_count": 51,
   "id": "d9810af5-4640-4fda-935a-f67796097189",
   "metadata": {},
   "outputs": [
    {
     "name": "stdout",
     "output_type": "stream",
     "text": [
      "Perfect numbers between 1 and 1000 are:\n",
      "6\n",
      "28\n",
      "496\n"
     ]
    }
   ],
   "source": [
    "# Function to check if a number is perfect\n",
    "def is_perfect(number):\n",
    "    sum_of_divisors = 0\n",
    "    for i in range(1, number):\n",
    "        if number % i == 0:\n",
    "            sum_of_divisors += i\n",
    "    return sum_of_divisors == number\n",
    "\n",
    "# Iterate through numbers from 1 to 1000 and print perfect numbers\n",
    "print(\"Perfect numbers between 1 and 1000 are:\")\n",
    "for num in range(1, 1001):\n",
    "    if is_perfect(num):\n",
    "        print(num)\n"
   ]
  },
  {
   "cell_type": "raw",
   "id": "5a840eca-f564-43b5-bb6f-239093e77298",
   "metadata": {},
   "source": [
    "13. Write a program to find the given number is strong number"
   ]
  },
  {
   "cell_type": "code",
   "execution_count": 52,
   "id": "7d7755e3-b07a-4922-9f4b-06440f4fd10f",
   "metadata": {},
   "outputs": [
    {
     "name": "stdin",
     "output_type": "stream",
     "text": [
      "Enter a number:  455\n"
     ]
    },
    {
     "name": "stdout",
     "output_type": "stream",
     "text": [
      "The number 455 is not a strong number.\n"
     ]
    }
   ],
   "source": [
    "import math\n",
    "\n",
    "# Function to check if a number is a strong number\n",
    "def is_strong(number):\n",
    "    sum_of_factorials = 0\n",
    "    temp = number\n",
    "    while temp > 0:\n",
    "        digit = temp % 10\n",
    "        sum_of_factorials += math.factorial(digit)\n",
    "        temp //= 10\n",
    "    return sum_of_factorials == number\n",
    "\n",
    "# Input the number\n",
    "number = int(input(\"Enter a number: \"))\n",
    "\n",
    "# Check if the number is a strong number\n",
    "if is_strong(number):\n",
    "    print(f\"The number {number} is a strong number.\")\n",
    "else:\n",
    "    print(f\"The number {number} is not a strong number.\")\n"
   ]
  },
  {
   "cell_type": "raw",
   "id": "85454b7c-bda4-463d-90e8-543a4bcbe518",
   "metadata": {},
   "source": [
    "14. Two numbers are entered through the keyboard. Write a program to find the value of \n",
    "one number raised to the power of another"
   ]
  },
  {
   "cell_type": "code",
   "execution_count": 54,
   "id": "3110f016-0cc2-4a66-9ff2-08d06b4e4ba4",
   "metadata": {},
   "outputs": [
    {
     "name": "stdin",
     "output_type": "stream",
     "text": [
      "Enter the base number:  12\n",
      "Enter the exponent number:  5\n"
     ]
    },
    {
     "name": "stdout",
     "output_type": "stream",
     "text": [
      "The value of 12.0 raised to the power of 5.0 is: 248832.0\n"
     ]
    }
   ],
   "source": [
    "# Input the base number\n",
    "base = float(input(\"Enter the base number: \"))\n",
    "\n",
    "# Input the exponent number\n",
    "exponent = float(input(\"Enter the exponent number: \"))\n",
    "\n",
    "# Calculate the result\n",
    "result = base ** exponent\n",
    "\n",
    "# Print the result\n",
    "print(f\"The value of {base} raised to the power of {exponent} is: {result}\")\n"
   ]
  },
  {
   "cell_type": "code",
   "execution_count": null,
   "id": "f49a21d2-d88d-4b56-adbd-0d73e3f6bb5b",
   "metadata": {},
   "outputs": [],
   "source": []
  }
 ],
 "metadata": {
  "kernelspec": {
   "display_name": "Python 3 (ipykernel)",
   "language": "python",
   "name": "python3"
  },
  "language_info": {
   "codemirror_mode": {
    "name": "ipython",
    "version": 3
   },
   "file_extension": ".py",
   "mimetype": "text/x-python",
   "name": "python",
   "nbconvert_exporter": "python",
   "pygments_lexer": "ipython3",
   "version": "3.12.4"
  }
 },
 "nbformat": 4,
 "nbformat_minor": 5
}
