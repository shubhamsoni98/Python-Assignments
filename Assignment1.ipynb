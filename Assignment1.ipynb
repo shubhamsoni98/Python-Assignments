{
 "cells": [
  {
   "cell_type": "markdown",
   "id": "0f398891-c0be-4f57-9996-75bd20cd5e6c",
   "metadata": {},
   "source": [
    "1. Simple Message: Store a message in a variable, and then print that message."
   ]
  },
  {
   "cell_type": "code",
   "execution_count": 2,
   "id": "4b584e90-5aae-4480-9856-3c4848f36690",
   "metadata": {},
   "outputs": [
    {
     "name": "stdout",
     "output_type": "stream",
     "text": [
      "Hello Python\n"
     ]
    }
   ],
   "source": [
    "a = \"Hello Python\"\n",
    "print(a)"
   ]
  },
  {
   "cell_type": "markdown",
   "id": "6f333d4d-8b92-4633-8e27-0868b1c35db5",
   "metadata": {},
   "source": [
    "2. Store a message in a variable and print that message. Then change the value of your variable to a new message and print the new message."
   ]
  },
  {
   "cell_type": "code",
   "execution_count": 5,
   "id": "3ca16d0e-f8ad-4287-a1d7-1f22f86abf46",
   "metadata": {},
   "outputs": [
    {
     "name": "stdout",
     "output_type": "stream",
     "text": [
      "My name is Shubham\n"
     ]
    }
   ],
   "source": [
    "b = \"My name is Shubham\"\n",
    "print(b)"
   ]
  },
  {
   "cell_type": "code",
   "execution_count": 7,
   "id": "cc712fe9-23ff-44c0-964b-d084dbffd794",
   "metadata": {},
   "outputs": [
    {
     "name": "stdout",
     "output_type": "stream",
     "text": [
      "My name is Shubham\n"
     ]
    }
   ],
   "source": [
    "c=b\n",
    "print(c)"
   ]
  },
  {
   "cell_type": "markdown",
   "id": "1e8085d3-18cf-471d-a2ff-28ca25fb7368",
   "metadata": {},
   "source": [
    "3. Store a person’s name in a variable and print a message to that person. \n",
    "   Your message should be simple, such as, “Hello Eric, would you like to \n",
    "   learn some Python today?”"
   ]
  },
  {
   "cell_type": "code",
   "execution_count": 20,
   "id": "7a3e87fe-d377-45aa-87e8-fa90cf1411b1",
   "metadata": {},
   "outputs": [
    {
     "name": "stdout",
     "output_type": "stream",
     "text": [
      "Hello SHUBHAM, would you like to learn some Python today?\n"
     ]
    }
   ],
   "source": [
    "a = 'SHUBHAM'\n",
    "print(f'Hello {a}, would you like to learn some Python today?')"
   ]
  },
  {
   "cell_type": "markdown",
   "id": "15d00d6c-c8ff-4571-abda-9598e8a6ff4e",
   "metadata": {},
   "source": [
    "4. Find a quote from a famous person you admire. Print the quote and the \n",
    "name of its author. Your output should look something like the following, \n",
    "including the quotation marks: Albert Einstein once said, “A person who \n",
    "never made a mistake never tried anything new.”"
   ]
  },
  {
   "cell_type": "code",
   "execution_count": 29,
   "id": "565b8e65-87cd-4127-9253-c9c0919ab07a",
   "metadata": {},
   "outputs": [
    {
     "name": "stdout",
     "output_type": "stream",
     "text": [
      "Mahatma Gandhi once said, \"The best way to find yourself is to lose yourself in the service of others.\"\n"
     ]
    }
   ],
   "source": [
    "a = \"Mahatma Gandhi\"\n",
    "print(f'{a} once said, \"{'The best way to find yourself is to lose yourself in the service of others.'}\"')"
   ]
  },
  {
   "cell_type": "markdown",
   "id": "6532b416-b3cf-4268-9c1e-7e9423e39be5",
   "metadata": {},
   "source": [
    "5.Repeat Exercise 4, but this time store the famous person’s name in a \n",
    "variable called famous_person. Then compose your message and store it in \n",
    "a new variable called message. Print your message."
   ]
  },
  {
   "cell_type": "code",
   "execution_count": 30,
   "id": "1693ca45-7397-4ec9-a9bc-514feea90c7a",
   "metadata": {},
   "outputs": [
    {
     "name": "stdout",
     "output_type": "stream",
     "text": [
      "Mahatma Gandhi once said, \"The best way to find yourself is to lose yourself in the service of others.\"\n"
     ]
    }
   ],
   "source": [
    "message = \"The best way to find yourself is to lose yourself in the service of others.\"\n",
    "famous_person = \"Mahatma Gandhi\"\n",
    "\n",
    "print(f'{famous_person} once said, \"{message}\"')"
   ]
  },
  {
   "cell_type": "markdown",
   "id": "adbff4a0-3930-422d-8116-8b2590c0600f",
   "metadata": {},
   "source": [
    "6. Write addition, subtraction, multiplication, and division operations that \n",
    "each result in the number 8. Be sure to enclose your operations in print \n",
    "statements to see the results. You should create four lines that look like \n",
    "this: print (5 + 3)\n",
    "Your output should simply be four lines with the number 8 appearing once \n",
    "on each line."
   ]
  },
  {
   "cell_type": "code",
   "execution_count": 32,
   "id": "20106414-d217-44f5-becc-4c4ac14ceec7",
   "metadata": {},
   "outputs": [
    {
     "name": "stdout",
     "output_type": "stream",
     "text": [
      "8\n",
      "8\n",
      "8\n",
      "8\n"
     ]
    }
   ],
   "source": [
    "print(2+6)\n",
    "print(9-1)\n",
    "print(4*2)\n",
    "print(int(16/2))"
   ]
  },
  {
   "cell_type": "markdown",
   "id": "9a43ea32-fe79-4b24-a83a-307819e4f009",
   "metadata": {},
   "source": [
    "7. Store your favourite number in a variable. Then, using that variable, create \n",
    "a message that reveals your favourite number. Print that message."
   ]
  },
  {
   "cell_type": "code",
   "execution_count": 34,
   "id": "e6e2b62b-2397-4c42-8883-c775709a4a0c",
   "metadata": {},
   "outputs": [
    {
     "name": "stdout",
     "output_type": "stream",
     "text": [
      "My favorite number is 911.\n"
     ]
    }
   ],
   "source": [
    "favorite_number = 911 \n",
    "message = f'My favorite number is {favorite_number}.'\n",
    "print(message)"
   ]
  },
  {
   "cell_type": "markdown",
   "id": "f37e6f18-c2aa-42d6-9dd8-1c9e5cc0ab3f",
   "metadata": {},
   "source": [
    "8. Choose two of the programs you’ve written and add at least one comment \n",
    "to each. If you don’t have anything specific to write because your programs \n",
    "are too simple at this point, just add your name and the current date at the \n",
    "top of each program file. Then write one sentence describing what the \n",
    "program does."
   ]
  },
  {
   "cell_type": "code",
   "execution_count": 35,
   "id": "a1d0d280-b1db-4669-ad8e-7aaced49e093",
   "metadata": {},
   "outputs": [
    {
     "name": "stdout",
     "output_type": "stream",
     "text": [
      "Mahatma Gandhi once said, \"The best way to find yourself is to lose yourself in the service of others.\"\n"
     ]
    }
   ],
   "source": [
    "# Author: [Shubham]\n",
    "# Date: July 20, 2024\n",
    "# This program prints a famous quote by Mahatma Gandhi.\n",
    "\n",
    "quote = \"The best way to find yourself is to lose yourself in the service of others.\"\n",
    "author = \"Mahatma Gandhi\"\n",
    "\n",
    "# Print the quote along with the author's name\n",
    "print(f'{author} once said, \"{quote}\"')"
   ]
  },
  {
   "cell_type": "code",
   "execution_count": 37,
   "id": "62fd4840-3171-4d3a-b092-76b805e80d97",
   "metadata": {},
   "outputs": [
    {
     "name": "stdout",
     "output_type": "stream",
     "text": [
      "My favorite number is 911.\n"
     ]
    }
   ],
   "source": [
    "# Author: [Shubham]\n",
    "# Date: July 20, 2024\n",
    "# This program stores a favorite number in a variable and prints a message revealing it.\n",
    "\n",
    "# Store the favorite number\n",
    "favorite_number = 911  # Replace 7 with your actual favorite number\n",
    "\n",
    "# Create a message revealing the favorite number\n",
    "message = f'My favorite number is {favorite_number}.'\n",
    "\n",
    "# Print the message\n",
    "print(message)"
   ]
  },
  {
   "cell_type": "markdown",
   "id": "227ebbab-eeae-4e79-bdd6-155125097f17",
   "metadata": {},
   "source": [
    "9. Store the names of a few of your friends in a list called names. Print each \n",
    "person’s name by accessing each element in the list, one at a time."
   ]
  },
  {
   "cell_type": "code",
   "execution_count": 41,
   "id": "aa45f51e-c6e2-47e1-bef2-55dfbda994cf",
   "metadata": {},
   "outputs": [
    {
     "name": "stdout",
     "output_type": "stream",
     "text": [
      "shubh\n",
      "sona\n",
      "pratik\n",
      "pranav\n",
      "ankur\n"
     ]
    }
   ],
   "source": [
    "names = ['shubh','sona','pratik','pranav','ankur']\n",
    "for name in names:\n",
    "    print(name)"
   ]
  },
  {
   "cell_type": "markdown",
   "id": "3504d176-2bb5-415c-8955-3c241c6a7831",
   "metadata": {},
   "source": [
    "10. Start with the list you used in Exercise 9, but instead of just printing each \n",
    "person’s name, print a message to them. The text of each message should \n",
    "be the same, but each message should be personalized with the person’s\n",
    "name."
   ]
  },
  {
   "cell_type": "code",
   "execution_count": 44,
   "id": "be1b58e5-9ee8-432e-bd3b-9107d1094132",
   "metadata": {},
   "outputs": [
    {
     "name": "stdout",
     "output_type": "stream",
     "text": [
      "Hello, shubh! Hope you're having a great day!\n",
      "Hello, sona! Hope you're having a great day!\n",
      "Hello, pratik! Hope you're having a great day!\n",
      "Hello, pranav! Hope you're having a great day!\n",
      "Hello, ankur! Hope you're having a great day!\n"
     ]
    }
   ],
   "source": [
    "names = ['shubh','sona','pratik','pranav','ankur']\n",
    "for name in names:\n",
    "    print(f\"Hello, {name}! Hope you're having a great day!\")"
   ]
  },
  {
   "cell_type": "markdown",
   "id": "ad081123-c28d-4360-a71f-1997a92759c4",
   "metadata": {},
   "source": [
    "11.Think of your favourite mode of transportation, such as a motorcycle or a \n",
    "car, and make a list that stores several examples. Use your list to print a \n",
    "series of statements about these items, such as “I would like to own a \n",
    "Honda motorcycle.”"
   ]
  },
  {
   "cell_type": "code",
   "execution_count": 50,
   "id": "c8242345-9d1f-481c-8368-053d6fabfa32",
   "metadata": {},
   "outputs": [
    {
     "name": "stdout",
     "output_type": "stream",
     "text": [
      "I'm going to buy Bike.\n",
      "Sometime my father take my Car.\n",
      "The Bus is crashed.\n"
     ]
    }
   ],
   "source": [
    "mode_of_trans = ['Bike','Car','Bus']\n",
    "print(f\"I'm going to buy {mode_of_trans[0]}.\")\n",
    "print(f\"Sometime my father take my {mode_of_trans[1]}.\")\n",
    "print(f\"The {mode_of_trans[2]} is crashed.\")"
   ]
  },
  {
   "cell_type": "code",
   "execution_count": null,
   "id": "019ad6fc-c202-4cd5-bcf7-a7cb2bd532e5",
   "metadata": {},
   "outputs": [],
   "source": []
  }
 ],
 "metadata": {
  "kernelspec": {
   "display_name": "Python 3 (ipykernel)",
   "language": "python",
   "name": "python3"
  },
  "language_info": {
   "codemirror_mode": {
    "name": "ipython",
    "version": 3
   },
   "file_extension": ".py",
   "mimetype": "text/x-python",
   "name": "python",
   "nbconvert_exporter": "python",
   "pygments_lexer": "ipython3",
   "version": "3.12.4"
  }
 },
 "nbformat": 4,
 "nbformat_minor": 5
}
