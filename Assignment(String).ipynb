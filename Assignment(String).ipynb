{
 "cells": [
  {
   "cell_type": "raw",
   "id": "99ee3903-142b-411f-a3be-1c9cef295b0d",
   "metadata": {},
   "source": [
    "1. Write a Python program to calculate the length of a string.\n",
    "Sample Output\n",
    "Tutor Joes\n",
    "Length of String = 10"
   ]
  },
  {
   "cell_type": "code",
   "execution_count": 1,
   "id": "5b39144a-55d8-44a2-a942-fefa57bece41",
   "metadata": {},
   "outputs": [
    {
     "name": "stdout",
     "output_type": "stream",
     "text": [
      "15\n"
     ]
    }
   ],
   "source": [
    "st = (\"Today is Friday\")\n",
    "print(len(st))"
   ]
  },
  {
   "cell_type": "raw",
   "id": "6e547dda-8cbd-4f62-aa7b-786499f61070",
   "metadata": {},
   "source": [
    "2. Write a Python program to count the number of characters (character frequency) in a string.\n",
    "Sample Output\n",
    "tutorjoes\n",
    "{'t' : 2, 'u' : 1, 'o' : 2, 'r' : 1, 'j' : 1, 'e' : 1, 's' : 1}"
   ]
  },
  {
   "cell_type": "code",
   "execution_count": 2,
   "id": "6e41c945-3086-4af3-a2dd-b724931022a3",
   "metadata": {},
   "outputs": [
    {
     "name": "stdin",
     "output_type": "stream",
     "text": [
      "Enter a string:  Yes, we are a family, and we always stay together.\n"
     ]
    },
    {
     "name": "stdout",
     "output_type": "stream",
     "text": [
      "Character frequency in 'Yes, we are a family, and we always stay together.': {'Y': 1, 'e': 6, 's': 3, ',': 2, ' ': 9, 'w': 3, 'a': 7, 'r': 2, 'f': 1, 'm': 1, 'i': 1, 'l': 2, 'y': 3, 'n': 1, 'd': 1, 't': 3, 'o': 1, 'g': 1, 'h': 1, '.': 1}\n"
     ]
    }
   ],
   "source": [
    "input_string = input(\"Enter a string: \")\n",
    "\n",
    "char_frequency = {}\n",
    "\n",
    "for char in input_string:\n",
    "    if char in char_frequency:\n",
    "        char_frequency[char] += 1\n",
    "    else:\n",
    "        char_frequency[char] = 1\n",
    "\n",
    "print(f\"Character frequency in '{input_string}': {char_frequency}\")"
   ]
  },
  {
   "cell_type": "raw",
   "id": "ab4b9755-e7de-42b0-955f-39923878704c",
   "metadata": {},
   "source": [
    "3. Write a Python program to get a string from a given string where all occurrences of its first char have been changed to '@', except the first char itself.\n",
    "Sample Output\n",
    "Given String = tutor joes\n",
    "After String = tu@or joes"
   ]
  },
  {
   "cell_type": "code",
   "execution_count": 4,
   "id": "3e2c2de7-f3a0-4fbb-a712-ed6401277d34",
   "metadata": {},
   "outputs": [
    {
     "name": "stdin",
     "output_type": "stream",
     "text": [
      "Enter a string:  shubhamsoni\n"
     ]
    },
    {
     "name": "stdout",
     "output_type": "stream",
     "text": [
      "Given String = shubhamsoni\n",
      "After String = shubham@oni\n"
     ]
    }
   ],
   "source": [
    "input_string = input(\"Enter a string: \")\n",
    "\n",
    "first_char = input_string[0]\n",
    "\n",
    "modified_string = first_char + input_string[1:].replace(first_char, '@')\n",
    "\n",
    "print(f\"Given String = {input_string}\")\n",
    "print(f\"After String = {modified_string}\")"
   ]
  },
  {
   "cell_type": "raw",
   "id": "6481d122-4956-4446-83f0-06001f7d862c",
   "metadata": {},
   "source": [
    "4. Write a Python program to get a single string from two given strings, separated by a space and swap the first two characters of each string.\n",
    "Sample Output\n",
    "Before Swap = abc xyz\n",
    "After Swap = xyc abz"
   ]
  },
  {
   "cell_type": "code",
   "execution_count": 6,
   "id": "a14c8e25-b046-4ab9-afcd-d3ec08ddf3ce",
   "metadata": {},
   "outputs": [
    {
     "name": "stdin",
     "output_type": "stream",
     "text": [
      "Enter the first string:  soni\n",
      "Enter the second string:  shubham\n"
     ]
    },
    {
     "name": "stdout",
     "output_type": "stream",
     "text": [
      "Before Swap = soni shubham\n",
      "After Swap = shubham soni\n"
     ]
    }
   ],
   "source": [
    "string1 = input(\"Enter the first string: \")\n",
    "string2 = input(\"Enter the second string: \")\n",
    "\n",
    "result = string2 + \" \" + string1\n",
    "\n",
    "print(f\"Before Swap = {string1} {string2}\")\n",
    "print(f\"After Swap = {result}\")"
   ]
  },
  {
   "cell_type": "raw",
   "id": "887fc3c7-558d-4279-923a-69158b39997c",
   "metadata": {},
   "source": [
    "5. Write a Python program to remove the nth index character from a nonempty string.\n",
    "Sample Output\n",
    "Before Remove = Tutor Joes\n",
    "Remove character = t\n",
    "After Remove = Tuor Joes"
   ]
  },
  {
   "cell_type": "code",
   "execution_count": 12,
   "id": "4743fb52-4702-4058-970b-4b251489efb3",
   "metadata": {},
   "outputs": [
    {
     "name": "stdout",
     "output_type": "stream",
     "text": [
      "Before Remove = Tutor Joes\n",
      "Remove character = J\n",
      "After Remove = Tutor oes\n"
     ]
    }
   ],
   "source": [
    "string = \"Tutor Joes\"\n",
    "index_to_remove = 6\n",
    "\n",
    "print(\"Before Remove =\", string)\n",
    "print(\"Remove character =\", string[index_to_remove])\n",
    "\n",
    "result = string[:index_to_remove] + string[index_to_remove + 1:]\n",
    "\n",
    "print(\"After Remove =\", result)"
   ]
  },
  {
   "cell_type": "raw",
   "id": "c66c6e2b-2968-4991-8e83-0b8519e93c0d",
   "metadata": {},
   "source": [
    "6. Write a Python program to change a given string to a new string where the first and last chars have been exchanged\n",
    "Sample Output\n",
    "Before Exchange = Python\n",
    "After Exchange = nythoP"
   ]
  },
  {
   "cell_type": "code",
   "execution_count": 15,
   "id": "24f94b13-03c5-45eb-9244-2a575a1130ad",
   "metadata": {},
   "outputs": [
    {
     "name": "stdout",
     "output_type": "stream",
     "text": [
      "Before Exchange = PYTHONLANG\n",
      "After Exchange = GYTHONLANP\n"
     ]
    }
   ],
   "source": [
    "string = \"PYTHONLANG\"\n",
    "\n",
    "print(\"Before Exchange =\", string)\n",
    "\n",
    "if len(string) > 1:\n",
    "    result = string[-1] + string[1:-1] + string[0]\n",
    "else:\n",
    "    result = string   \n",
    "\n",
    "print(\"After Exchange =\", result)"
   ]
  },
  {
   "cell_type": "raw",
   "id": "03749751-4789-4f71-ae1b-bbb4c414d902",
   "metadata": {},
   "source": [
    "7. Write a Python program to remove the characters which have odd index values of a given string\n",
    "Sample Output\n",
    "String = Computer Education\n",
    "Remove Odd Index Char = Cmue dcto"
   ]
  },
  {
   "cell_type": "code",
   "execution_count": 16,
   "id": "944f7d4f-83b7-4d44-8267-3aaf324d7161",
   "metadata": {},
   "outputs": [
    {
     "name": "stdout",
     "output_type": "stream",
     "text": [
      "String = Computer Education\n",
      "Remove Odd Index Char = Cmue dcto\n"
     ]
    }
   ],
   "source": [
    "string = \"Computer Education\"\n",
    "\n",
    "result = string[::2]\n",
    "\n",
    "print(\"String =\", string)\n",
    "print(\"Remove Odd Index Char =\", result)"
   ]
  },
  {
   "cell_type": "raw",
   "id": "21fe3781-a00c-4eb0-b37c-1448b0359f12",
   "metadata": {},
   "source": [
    "8. Write a Python program to count the occurrences of each word in a given sentence\n",
    "Sample Output\n",
    "string = To change the overall look your document. To change the look available in the gallery\n",
    "{ 'To': 2, 'change': 2, 'the': 3, 'overall': 1, 'look': 2, 'your': 1, 'document.': 1, 'available': 1, 'in': 1, 'gallery': 1 }"
   ]
  },
  {
   "cell_type": "code",
   "execution_count": 17,
   "id": "df01b719-5364-46ab-a9a0-0a88e62693c3",
   "metadata": {},
   "outputs": [
    {
     "name": "stdout",
     "output_type": "stream",
     "text": [
      "string = to change the overall look your document to change the look available in the gallery\n",
      "{'to': 2, 'change': 2, 'the': 3, 'overall': 1, 'look': 2, 'your': 1, 'document': 1, 'available': 1, 'in': 1, 'gallery': 1}\n"
     ]
    }
   ],
   "source": [
    "sentence = \"To change the overall look your document. To change the look available in the gallery\"\n",
    "\n",
    "sentence = sentence.lower()\n",
    "for char in sentence:\n",
    "    if char in \",.\":   \n",
    "        sentence = sentence.replace(char, \"\")\n",
    "\n",
    "words = sentence.split()\n",
    "\n",
    "word_count = {}\n",
    "for word in words:\n",
    "    if word in word_count:\n",
    "        word_count[word] += 1\n",
    "    else:\n",
    "        word_count[word] = 1\n",
    "\n",
    "print(\"string =\", \" \".join(words))\n",
    "print(word_count)"
   ]
  },
  {
   "cell_type": "raw",
   "id": "39c4834c-610a-46f2-97db-b142a81a019f",
   "metadata": {},
   "source": [
    "9. Write a Python script that takes input from the user and displays that input back in upper and lower cases.\n",
    "Sample Output\n",
    "Enter the String = Tutor Joes\n",
    "Uppercase = TUTOR JOES\n",
    "Lowercase = tutor joes"
   ]
  },
  {
   "cell_type": "code",
   "execution_count": 18,
   "id": "6fad8e2e-8f0b-4fed-a28a-64278f191c79",
   "metadata": {},
   "outputs": [
    {
     "name": "stdin",
     "output_type": "stream",
     "text": [
      "Enter the String =  JAi MaTA Di\n"
     ]
    },
    {
     "name": "stdout",
     "output_type": "stream",
     "text": [
      "Uppercase = JAI MATA DI\n",
      "Lowercase = jai mata di\n"
     ]
    }
   ],
   "source": [
    "user_input = input(\"Enter the String = \")\n",
    "\n",
    "uppercase_input = user_input.upper()\n",
    "lowercase_input = user_input.lower()\n",
    "\n",
    "print(\"Uppercase =\", uppercase_input)\n",
    "print(\"Lowercase =\", lowercase_input)"
   ]
  },
  {
   "cell_type": "raw",
   "id": "8e53d5ed-07cd-4900-ac86-cf3e5ec28894",
   "metadata": {},
   "source": [
    "10. Write a Python function to reverses a string if it's length is a multiple of 4.\n",
    "Sample Output\n",
    "Enter the String = Computer\n",
    "If the length is a multiple of 4 = retupmoC\n",
    "Enter the String = Science\n",
    "If the length is not a multiple of 4 = Science"
   ]
  },
  {
   "cell_type": "code",
   "execution_count": 19,
   "id": "02cd7240-7fd1-46bb-a53c-279381201101",
   "metadata": {},
   "outputs": [
    {
     "name": "stdin",
     "output_type": "stream",
     "text": [
      "Enter the String =  shubhamsonijaimatadi\n"
     ]
    },
    {
     "name": "stdout",
     "output_type": "stream",
     "text": [
      "Result = idatamiajinosmahbuhs\n"
     ]
    }
   ],
   "source": [
    "user_input = input(\"Enter the String = \")\n",
    "\n",
    "if len(user_input) % 4 == 0:\n",
    "    result = user_input[::-1]\n",
    "else:\n",
    "    result = user_input\n",
    "\n",
    "print(\"Result =\", result)"
   ]
  },
  {
   "cell_type": "raw",
   "id": "6cf7e239-7b66-44a0-b900-d7da98610a79",
   "metadata": {},
   "source": [
    "11. Write a Python function to convert a given string to all uppercase if it contains at least 2 uppercase characters in the first 4 characters.\n",
    "Sample Output\n",
    "Enter the String = ComPuTeR\n",
    "Check if there are at least 2 uppercase letters in the first 4 characters = COMPUTER\n",
    "Enter the String = Computer\n",
    "Check if does not contain at least 2 uppercase letters in the first 4 characters = Computer"
   ]
  },
  {
   "cell_type": "code",
   "execution_count": 20,
   "id": "182559ce-34c6-4233-be6b-efb314df4339",
   "metadata": {},
   "outputs": [
    {
     "name": "stdin",
     "output_type": "stream",
     "text": [
      "Enter the String =  bUiLding\n"
     ]
    },
    {
     "name": "stdout",
     "output_type": "stream",
     "text": [
      "Check if there are at least 2 uppercase letters in the first 4 characters = BUILDING\n"
     ]
    }
   ],
   "source": [
    "user_input = input(\"Enter the String = \")\n",
    "\n",
    "first_four_chars = user_input[:4]\n",
    "uppercase_count = sum(1 for char in first_four_chars if char.isupper())\n",
    "\n",
    "if uppercase_count >= 2:\n",
    "    result = user_input.upper()\n",
    "else:\n",
    "    result = user_input\n",
    "\n",
    "if result == user_input.upper():\n",
    "    print(\"Check if there are at least 2 uppercase letters in the first 4 characters =\", result)\n",
    "else:\n",
    "    print(\"Check if does not contain at least 2 uppercase letters in the first 4 characters =\", result)"
   ]
  },
  {
   "cell_type": "raw",
   "id": "920c0832-ab20-42ba-b564-2a5e8ed8d564",
   "metadata": {},
   "source": [
    "12. Write a Python program to sort a string lexicographically.\n",
    "Sample Output\n",
    "Enter the String = Tutor\n",
    "['o', 'r', 'T', 't', 'u']"
   ]
  },
  {
   "cell_type": "code",
   "execution_count": 21,
   "id": "8968ed73-b184-45ea-b85f-fec7129b6e79",
   "metadata": {},
   "outputs": [
    {
     "name": "stdin",
     "output_type": "stream",
     "text": [
      "Enter the String =  istanbull\n"
     ]
    },
    {
     "name": "stdout",
     "output_type": "stream",
     "text": [
      "['a', 'b', 'i', 'l', 'l', 'n', 's', 't', 'u']\n"
     ]
    }
   ],
   "source": [
    "user_input = input(\"Enter the String = \")\n",
    "\n",
    "sorted_chars = sorted(user_input)\n",
    "\n",
    "print(sorted_chars)"
   ]
  },
  {
   "cell_type": "raw",
   "id": "b01e732a-74b3-4738-986b-ba815fcbc738",
   "metadata": {},
   "source": [
    "13. Write a Python program to remove a newline in Python.\n",
    "Sample Output\n",
    "String = \"\\nTutor \\nJoes \\nComputer \\nEducation\\n\"\n",
    "Before Remove NewLine(\\n)\n",
    "Tutor\n",
    "Joes\n",
    "Computer\n",
    "Education\n",
    "After Remove NewLine(\\n) = Tutor Joes Computer Education"
   ]
  },
  {
   "cell_type": "code",
   "execution_count": 22,
   "id": "1adf54ff-751c-4717-8044-a709a83ffbd8",
   "metadata": {},
   "outputs": [
    {
     "name": "stdout",
     "output_type": "stream",
     "text": [
      "Before Remove NewLine(\\n)\n",
      "Tutor  Joes  Computer  Education\n",
      "After Remove NewLine(\\n) = Tutor Joes Computer Education\n"
     ]
    }
   ],
   "source": [
    "string = \"\\nTutor \\nJoes \\nComputer \\nEducation\\n\"\n",
    "\n",
    "print(\"Before Remove NewLine(\\\\n)\")\n",
    "print(string.strip().replace('\\n', ' '))\n",
    "\n",
    "result = ' '.join(line.strip() for line in string.split('\\n') if line.strip())\n",
    "\n",
    "print(\"After Remove NewLine(\\\\n) =\", result)"
   ]
  },
  {
   "cell_type": "raw",
   "id": "23b08bf4-925e-44c7-80bb-30bc23f44fe2",
   "metadata": {},
   "source": [
    "14. Write a Python program to check whether a string starts with specified characters.\n",
    "Sample Output\n",
    "Tutor Joes Computer Education\n",
    "Prefix to check = Tu\n",
    "Check if the input string starts with the prefix = True"
   ]
  },
  {
   "cell_type": "code",
   "execution_count": 23,
   "id": "034a9390-693f-4054-94f6-8d30eb880245",
   "metadata": {},
   "outputs": [
    {
     "name": "stdout",
     "output_type": "stream",
     "text": [
      "String = Tutor Joes Computer Education\n",
      "Prefix to check = Tu\n",
      "Check if the input string starts with the prefix = True\n"
     ]
    }
   ],
   "source": [
    "string = \"Tutor Joes Computer Education\"\n",
    "prefix = \"Tu\"\n",
    "\n",
    "starts_with_prefix = string.startswith(prefix)\n",
    "\n",
    "print(\"String =\", string)\n",
    "print(\"Prefix to check =\", prefix)\n",
    "print(\"Check if the input string starts with the prefix =\", starts_with_prefix)\n"
   ]
  },
  {
   "cell_type": "raw",
   "id": "31144dbb-44f2-4606-8ecf-44e4bee495f5",
   "metadata": {},
   "source": [
    "15. Write a Python program to display formatted text (width=35,70) as output.\n",
    "Sample Output\n",
    "Python is an interpreted, object-oriented, high-level programming language\n",
    "that can be used for a wide variety of applications. Python is a powerful\n",
    "general-purpose programming language.\n",
    "Formatted Text (Width 35) :\n",
    "Python is an interpreted, object-\n",
    "oriented, high-level programming\n",
    "language that can be used for a\n",
    "wide variety of applications.\n",
    "Python is a powerful general-purpose\n",
    "programming language.\n",
    "Formatted Text (Width 70) :\n",
    "Python is an interpreted, object-oriented, high-level programming language\n",
    "that can be used for a wide variety of applications. Python is a powerful\n",
    "general-purpose programming language."
   ]
  },
  {
   "cell_type": "code",
   "execution_count": 24,
   "id": "4a19d327-7381-40ad-9eca-7777eff1ede1",
   "metadata": {},
   "outputs": [
    {
     "name": "stdout",
     "output_type": "stream",
     "text": [
      "Original Text:\n",
      "Python is an interpreted, object-oriented, high-level programming language\n",
      "that can be used for a wide variety of applications. Python is a powerful\n",
      "general-purpose programming language.\n",
      "\n",
      "Formatted Text (Width 35):\n",
      "Python is an interpreted, object-\n",
      "oriented, high-level programming\n",
      "language that can be used for a\n",
      "wide variety of applications.\n",
      "Python is a powerful general-\n",
      "purpose programming language.\n",
      "\n",
      "Formatted Text (Width 70):\n",
      "Python is an interpreted, object-oriented, high-level programming\n",
      "language that can be used for a wide variety of applications. Python\n",
      "is a powerful general-purpose programming language.\n"
     ]
    }
   ],
   "source": [
    "import textwrap\n",
    "\n",
    "text = \"\"\"Python is an interpreted, object-oriented, high-level programming language\n",
    "that can be used for a wide variety of applications. Python is a powerful\n",
    "general-purpose programming language.\"\"\"\n",
    "\n",
    "# Format the text with a width of 35\n",
    "formatted_text_35 = textwrap.fill(text, width=35)\n",
    "\n",
    "# Format the text with a width of 70\n",
    "formatted_text_70 = textwrap.fill(text, width=70)\n",
    "\n",
    "print(\"Original Text:\")\n",
    "print(text)\n",
    "print(\"\\nFormatted Text (Width 35):\")\n",
    "print(formatted_text_35)\n",
    "print(\"\\nFormatted Text (Width 70):\")\n",
    "print(formatted_text_70)\n"
   ]
  },
  {
   "cell_type": "raw",
   "id": "93b4f6c5-a5c8-4500-8c9d-818b08bde9f0",
   "metadata": {},
   "source": [
    "16. Write a Python program to remove existing indentation from all of the lines in a given text.\n",
    "Sample Output\n",
    "Original text :\n",
    "              Python is an interpreted, object-oriented, high-level programming language\n",
    "              that can be used for a wide variety of applications. Python is a powerful\n",
    "              general-purpose programming language.\n",
    "Dedented text :\n",
    "Python is an interpreted, object-oriented, high-level programming language\n",
    "that can be used for a wide variety of applications. Python is a powerful\n",
    "general-purpose programming language.\n"
   ]
  },
  {
   "cell_type": "code",
   "execution_count": 25,
   "id": "7a6cfab0-856e-44da-bffb-1fe83095b817",
   "metadata": {},
   "outputs": [
    {
     "name": "stdout",
     "output_type": "stream",
     "text": [
      "Original text :\n",
      "\n",
      "              Python is an interpreted, object-oriented, high-level programming language\n",
      "              that can be used for a wide variety of applications. Python is a powerful\n",
      "              general-purpose programming language.\n",
      "\n",
      "\n",
      "Dedented text :\n",
      "\n",
      "Python is an interpreted, object-oriented, high-level programming language\n",
      "that can be used for a wide variety of applications. Python is a powerful\n",
      "general-purpose programming language.\n",
      "\n"
     ]
    }
   ],
   "source": [
    "import textwrap\n",
    "\n",
    "text = \"\"\"\n",
    "              Python is an interpreted, object-oriented, high-level programming language\n",
    "              that can be used for a wide variety of applications. Python is a powerful\n",
    "              general-purpose programming language.\n",
    "\"\"\"\n",
    "\n",
    "dedented_text = textwrap.dedent(text)\n",
    "\n",
    "print(\"Original text :\")\n",
    "print(text)\n",
    "print(\"\\nDedented text :\")\n",
    "print(dedented_text)\n"
   ]
  },
  {
   "cell_type": "raw",
   "id": "044f48ff-e26b-4ce8-a946-a7a27ee6a274",
   "metadata": {},
   "source": [
    "17. Write a Python program to add a prefix text to all of the lines in a string.\n",
    "Sample Output\n",
    "Text :\n",
    "              Python is an interpreted, object-oriented, high-level programming language\n",
    "              that can be used for a wide variety of applications. Python is a powerful\n",
    "              general-purpose programming language.\n",
    "Prefix to add to each line = *\n",
    "Display the Result :\n",
    "      *  Python is an interpreted, object-oriented, high-level programming language\n",
    "      *  that can be used for a wide variety of applications. Python is a powerful\n",
    "      *  general-purpose programming language.\n"
   ]
  },
  {
   "cell_type": "code",
   "execution_count": 26,
   "id": "b6fd5199-c9d0-45f2-a371-a0f7368fff0b",
   "metadata": {},
   "outputs": [
    {
     "name": "stdout",
     "output_type": "stream",
     "text": [
      "Original text :\n",
      "\n",
      "              Python is an interpreted, object-oriented, high-level programming language\n",
      "              that can be used for a wide variety of applications. Python is a powerful\n",
      "              general-purpose programming language.\n",
      "\n",
      "\n",
      "Prefix to add to each line = *\n",
      "\n",
      "Display the Result :\n",
      "* \n",
      "*               Python is an interpreted, object-oriented, high-level programming language\n",
      "*               that can be used for a wide variety of applications. Python is a powerful\n",
      "*               general-purpose programming language.\n"
     ]
    }
   ],
   "source": [
    "text = \"\"\"\n",
    "              Python is an interpreted, object-oriented, high-level programming language\n",
    "              that can be used for a wide variety of applications. Python is a powerful\n",
    "              general-purpose programming language.\n",
    "\"\"\"\n",
    "\n",
    "prefix = \"*\"\n",
    "\n",
    "prefixed_text = '\\n'.join(prefix + \" \" + line for line in text.splitlines())\n",
    "\n",
    "print(\"Original text :\")\n",
    "print(text)\n",
    "print(\"\\nPrefix to add to each line =\", prefix)\n",
    "print(\"\\nDisplay the Result :\")\n",
    "print(prefixed_text)\n"
   ]
  }
 ],
 "metadata": {
  "kernelspec": {
   "display_name": "Python 3 (ipykernel)",
   "language": "python",
   "name": "python3"
  },
  "language_info": {
   "codemirror_mode": {
    "name": "ipython",
    "version": 3
   },
   "file_extension": ".py",
   "mimetype": "text/x-python",
   "name": "python",
   "nbconvert_exporter": "python",
   "pygments_lexer": "ipython3",
   "version": "3.12.4"
  }
 },
 "nbformat": 4,
 "nbformat_minor": 5
}
